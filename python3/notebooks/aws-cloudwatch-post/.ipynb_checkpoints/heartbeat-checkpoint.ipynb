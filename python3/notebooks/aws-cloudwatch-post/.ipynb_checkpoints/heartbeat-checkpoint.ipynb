{
 "cells": [
  {
   "cell_type": "code",
   "execution_count": 1,
   "metadata": {
    "ExecuteTime": {
     "end_time": "2021-05-31T03:09:11.308940Z",
     "start_time": "2021-05-31T03:09:11.279018Z"
    }
   },
   "outputs": [
    {
     "data": {
      "text/plain": [
       "'3.6.9'"
      ]
     },
     "execution_count": 1,
     "metadata": {},
     "output_type": "execute_result"
    }
   ],
   "source": [
    "from platform import python_version\n",
    "\n",
    "python_version()"
   ]
  },
  {
   "cell_type": "code",
   "execution_count": 2,
   "metadata": {
    "ExecuteTime": {
     "end_time": "2021-05-31T03:09:11.573529Z",
     "start_time": "2021-05-31T03:09:11.474829Z"
    }
   },
   "outputs": [
    {
     "data": {
      "text/plain": [
       "'1.17.84'"
      ]
     },
     "execution_count": 2,
     "metadata": {},
     "output_type": "execute_result"
    }
   ],
   "source": [
    "import boto3\n",
    "boto3.__version__"
   ]
  },
  {
   "cell_type": "code",
   "execution_count": 3,
   "metadata": {
    "ExecuteTime": {
     "end_time": "2021-05-31T03:09:11.832547Z",
     "start_time": "2021-05-31T03:09:11.774424Z"
    }
   },
   "outputs": [],
   "source": [
    "cloudwatch_client = boto3.client('cloudwatch')"
   ]
  },
  {
   "cell_type": "code",
   "execution_count": null,
   "metadata": {
    "ExecuteTime": {
     "end_time": "2021-05-31T02:55:56.664122Z",
     "start_time": "2021-05-31T02:55:55.978489Z"
    }
   },
   "outputs": [],
   "source": [
    "cloudwatch_client.put_metric_data(\n",
    "    MetricData = [\n",
    "        {\n",
    "            'MetricName': 'heartbeat',\n",
    "            'Unit': 'None',\n",
    "            'Value': 1,\n",
    "            'Dimensions': [\n",
    "                {\n",
    "                    'Name': 'feature-name',\n",
    "                    'Value': 'my-feature-1' \n",
    "                }\n",
    "            ]\n",
    "        }\n",
    "    ],\n",
    "    Namespace='my-app-1'\n",
    ")"
   ]
  }
 ],
 "metadata": {
  "kernelspec": {
   "display_name": "Python 3",
   "language": "python",
   "name": "python3"
  },
  "language_info": {
   "codemirror_mode": {
    "name": "ipython",
    "version": 3
   },
   "file_extension": ".py",
   "mimetype": "text/x-python",
   "name": "python",
   "nbconvert_exporter": "python",
   "pygments_lexer": "ipython3",
   "version": "3.6.9"
  },
  "toc": {
   "base_numbering": 1,
   "nav_menu": {},
   "number_sections": true,
   "sideBar": true,
   "skip_h1_title": false,
   "title_cell": "Table of Contents",
   "title_sidebar": "Contents",
   "toc_cell": false,
   "toc_position": {},
   "toc_section_display": true,
   "toc_window_display": false
  }
 },
 "nbformat": 4,
 "nbformat_minor": 4
}
