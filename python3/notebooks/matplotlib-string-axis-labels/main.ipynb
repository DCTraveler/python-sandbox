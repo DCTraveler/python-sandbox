{
 "cells": [
  {
   "cell_type": "code",
   "execution_count": 2,
   "metadata": {
    "ExecuteTime": {
     "end_time": "2021-06-29T03:06:08.729161Z",
     "start_time": "2021-06-29T03:06:08.718352Z"
    }
   },
   "outputs": [
    {
     "data": {
      "text/plain": [
       "('3.6.9', '1.19.0', '3.2.2')"
      ]
     },
     "execution_count": 2,
     "metadata": {},
     "output_type": "execute_result"
    }
   ],
   "source": [
    "import matplotlib\n",
    "\n",
    "import matplotlib.pyplot as plt\n",
    "import numpy as np\n",
    "from platform import python_version\n",
    "\n",
    "python_version(), np.__version__,matplotlib.__version__"
   ]
  },
  {
   "cell_type": "markdown",
   "metadata": {},
   "source": [
    "## simple bar plot"
   ]
  },
  {
   "cell_type": "code",
   "execution_count": 3,
   "metadata": {
    "ExecuteTime": {
     "end_time": "2021-06-29T03:06:13.741738Z",
     "start_time": "2021-06-29T03:06:13.589771Z"
    }
   },
   "outputs": [
    {
     "data": {
      "image/png": "[encoded data removed]",
      "text/plain": [
       "<Figure size 432x288 with 1 Axes>"
      ]
     },
     "metadata": {
      "needs_background": "light"
     },
     "output_type": "display_data"
    }
   ],
   "source": [
    "import matplotlib.pyplot as plt\n",
    "import numpy as np\n",
    "\n",
    "# generate sample data for this example\n",
    "xs = [1,2,3,4,5,6,7,8,9,10,11,12]\n",
    "ys = np.random.normal(loc=3.0,size=12)\n",
    "labels = ['jan','feb','mar','apr','may','jun','jul','aug','sept','oct','nov','dec']\n",
    "\n",
    "plt.bar(xs,ys)\n",
    "\n",
    "# HERE tell pyplot which labels correspond to which x values\n",
    "plt.xticks(xs,labels)\n",
    "\n",
    "plt.show()"
   ]
  },
  {
   "cell_type": "markdown",
   "metadata": {},
   "source": [
    "## horizontal bar plot"
   ]
  },
  {
   "cell_type": "code",
   "execution_count": 5,
   "metadata": {
    "ExecuteTime": {
     "end_time": "2021-06-29T03:07:08.700948Z",
     "start_time": "2021-06-29T03:07:08.542725Z"
    }
   },
   "outputs": [
    {
     "data": {
      "image/png": "[encoded data removed]",
      "text/plain": [
       "<Figure size 432x288 with 1 Axes>"
      ]
     },
     "metadata": {
      "needs_background": "light"
     },
     "output_type": "display_data"
    }
   ],
   "source": [
    "import matplotlib.pyplot as plt\n",
    "import numpy as np\n",
    "\n",
    "np.random.seed(42)\n",
    "\n",
    "xs = [1,2,3,4,5,6,7,8,9,10,11,12]\n",
    "ys = np.random.normal(loc=3.0,size=12)\n",
    "labels = ['jan','feb','mar','apr','may','jun','jul','aug','sept','oct','nov','dec']\n",
    "\n",
    "plt.clf()\n",
    "plt.barh(xs,ys)\n",
    "\n",
    "# tell pyplot which labels correspond to which x values\n",
    "plt.yticks(xs,labels)\n",
    "\n",
    "plt.show()"
   ]
  }
 ],
 "metadata": {
  "kernelspec": {
   "display_name": "Python 3",
   "language": "python",
   "name": "python3"
  },
  "language_info": {
   "codemirror_mode": {
    "name": "ipython",
    "version": 3
   },
   "file_extension": ".py",
   "mimetype": "text/x-python",
   "name": "python",
   "nbconvert_exporter": "python",
   "pygments_lexer": "ipython3",
   "version": "3.6.9"
  },
  "toc": {
   "base_numbering": 1,
   "nav_menu": {},
   "number_sections": true,
   "sideBar": true,
   "skip_h1_title": false,
   "title_cell": "Table of Contents",
   "title_sidebar": "Contents",
   "toc_cell": false,
   "toc_position": {},
   "toc_section_display": true,
   "toc_window_display": false
  }
 },
 "nbformat": 4,
 "nbformat_minor": 4
}
