{
 "cells": [
  {
   "cell_type": "code",
   "execution_count": 24,
   "id": "d2a6b034",
   "metadata": {},
   "outputs": [],
   "source": [
    "import pandas as pd\n",
    "import matplotlib\n",
    "import random\n",
    "import matplotlib.pyplot as plt\n",
    "import numpy as np\n",
    "from dsutil.plotting import *\n",
    "\n",
    "from faker import Faker\n",
    "from platform import python_version"
   ]
  },
  {
   "cell_type": "code",
   "execution_count": 2,
   "id": "dfdeeebd",
   "metadata": {},
   "outputs": [
    {
     "data": {
      "text/plain": [
       "('3.8.10', '1.3.2', '3.4.3')"
      ]
     },
     "execution_count": 2,
     "metadata": {},
     "output_type": "execute_result"
    }
   ],
   "source": [
    "python_version(), pd.__version__, matplotlib.__version__"
   ]
  },
  {
   "cell_type": "markdown",
   "id": "98af11f4",
   "metadata": {},
   "source": [
    "## plot histogram for dataframe column"
   ]
  },
  {
   "cell_type": "code",
   "execution_count": 3,
   "id": "25b2eff8",
   "metadata": {},
   "outputs": [
    {
     "data": {
      "text/html": [
       "<div>\n",
       "<style scoped>\n",
       "    .dataframe tbody tr th:only-of-type {\n",
       "        vertical-align: middle;\n",
       "    }\n",
       "\n",
       "    .dataframe tbody tr th {\n",
       "        vertical-align: top;\n",
       "    }\n",
       "\n",
       "    .dataframe thead th {\n",
       "        text-align: right;\n",
       "    }\n",
       "</style>\n",
       "<table border=\"1\" class=\"dataframe\">\n",
       "  <thead>\n",
       "    <tr style=\"text-align: right;\">\n",
       "      <th></th>\n",
       "      <th>name</th>\n",
       "      <th>age</th>\n",
       "      <th>gender</th>\n",
       "      <th>state</th>\n",
       "      <th>num_children</th>\n",
       "      <th>num_pets</th>\n",
       "    </tr>\n",
       "  </thead>\n",
       "  <tbody>\n",
       "    <tr>\n",
       "      <th>0</th>\n",
       "      <td>john</td>\n",
       "      <td>23</td>\n",
       "      <td>M</td>\n",
       "      <td>california</td>\n",
       "      <td>2</td>\n",
       "      <td>5</td>\n",
       "    </tr>\n",
       "    <tr>\n",
       "      <th>1</th>\n",
       "      <td>mary</td>\n",
       "      <td>78</td>\n",
       "      <td>F</td>\n",
       "      <td>dc</td>\n",
       "      <td>0</td>\n",
       "      <td>1</td>\n",
       "    </tr>\n",
       "    <tr>\n",
       "      <th>2</th>\n",
       "      <td>peter</td>\n",
       "      <td>22</td>\n",
       "      <td>M</td>\n",
       "      <td>california</td>\n",
       "      <td>0</td>\n",
       "      <td>0</td>\n",
       "    </tr>\n",
       "    <tr>\n",
       "      <th>3</th>\n",
       "      <td>jeff</td>\n",
       "      <td>19</td>\n",
       "      <td>M</td>\n",
       "      <td>dc</td>\n",
       "      <td>3</td>\n",
       "      <td>5</td>\n",
       "    </tr>\n",
       "    <tr>\n",
       "      <th>4</th>\n",
       "      <td>bill</td>\n",
       "      <td>45</td>\n",
       "      <td>M</td>\n",
       "      <td>california</td>\n",
       "      <td>2</td>\n",
       "      <td>2</td>\n",
       "    </tr>\n",
       "    <tr>\n",
       "      <th>5</th>\n",
       "      <td>lisa</td>\n",
       "      <td>33</td>\n",
       "      <td>F</td>\n",
       "      <td>texas</td>\n",
       "      <td>1</td>\n",
       "      <td>2</td>\n",
       "    </tr>\n",
       "    <tr>\n",
       "      <th>6</th>\n",
       "      <td>jose</td>\n",
       "      <td>20</td>\n",
       "      <td>M</td>\n",
       "      <td>texas</td>\n",
       "      <td>4</td>\n",
       "      <td>3</td>\n",
       "    </tr>\n",
       "  </tbody>\n",
       "</table>\n",
       "</div>"
      ],
      "text/plain": [
       "    name  age gender       state  num_children  num_pets\n",
       "0   john   23      M  california             2         5\n",
       "1   mary   78      F          dc             0         1\n",
       "2  peter   22      M  california             0         0\n",
       "3   jeff   19      M          dc             3         5\n",
       "4   bill   45      M  california             2         2\n",
       "5   lisa   33      F       texas             1         2\n",
       "6   jose   20      M       texas             4         3"
      ]
     },
     "metadata": {},
     "output_type": "display_data"
    },
    {
     "data": {
      "image/png": "[encoded data removed]",
      "text/plain": [
       "<Figure size 432x288 with 1 Axes>"
      ]
     },
     "metadata": {
      "needs_background": "light"
     },
     "output_type": "display_data"
    }
   ],
   "source": [
    "df = pd.DataFrame({\n",
    "    'name':['john','mary','peter','jeff','bill','lisa','jose'],\n",
    "    'age':[23,78,22,19,45,33,20],\n",
    "    'gender':['M','F','M','M','M','F','M'],\n",
    "    'state':['california','dc','california','dc','california','texas','texas'],\n",
    "    'num_children':[2,0,0,3,2,1,4],\n",
    "    'num_pets':[5,1,0,5,2,2,3]\n",
    "})\n",
    "\n",
    "display(df)\n",
    "df[['age']].plot(kind='hist',bins=[0,20,40,60,80,100],rwidth=0.8)\n",
    "plt.show()"
   ]
  },
  {
   "cell_type": "markdown",
   "id": "a437b4f7",
   "metadata": {},
   "source": [
    "## relative histogram"
   ]
  },
  {
   "cell_type": "code",
   "execution_count": 48,
   "id": "207d07da",
   "metadata": {},
   "outputs": [
    {
     "data": {
      "text/plain": [
       "(0.0, 1.0)"
      ]
     },
     "execution_count": 48,
     "metadata": {},
     "output_type": "execute_result"
    },
    {
     "data": {
      "image/png": "[encoded data removed]",
      "text/plain": [
       "<Figure size 432x288 with 1 Axes>"
      ]
     },
     "metadata": {
      "needs_background": "light"
     },
     "output_type": "display_data"
    }
   ],
   "source": [
    "import scipy.stats as st\n",
    "\n",
    "random.seed(44)\n",
    "\n",
    "dist_1 = st.norm(loc=0.0,scale=1.0)\n",
    "\n",
    "df1 = pd.DataFrame({\n",
    "    'value_1': dist_1.rvs(10000),\n",
    "})\n",
    "\n",
    "plt.clf()\n",
    "ax = plt.gca()\n",
    "\n",
    "df1.plot(kind='hist', density=True, ax=ax)\n",
    "# df1.plot(ax=ax, kind='hist')\n",
    "\n",
    "add_grid()\n",
    "ax.set_ylabel('Density')\n",
    "ax.set_ylim(0,1)"
   ]
  },
  {
   "cell_type": "markdown",
   "id": "66242c74",
   "metadata": {},
   "source": [
    "## two histograms put together"
   ]
  },
  {
   "cell_type": "code",
   "execution_count": 53,
   "id": "98885c1d",
   "metadata": {},
   "outputs": [
    {
     "data": {
      "image/png": "[encoded data removed]",
      "text/plain": [
       "<Figure size 432x288 with 1 Axes>"
      ]
     },
     "metadata": {
      "needs_background": "light"
     },
     "output_type": "display_data"
    }
   ],
   "source": [
    "import scipy.stats as st\n",
    "\n",
    "random.seed(44)\n",
    "\n",
    "dist_1 = st.norm(loc=0.0,scale=5.0)\n",
    "dist_2 = st.norm(loc=5,scale=1.0)\n",
    "\n",
    "nums_1 = dist_1.rvs(1000)\n",
    "nums_2 = dist_2.rvs(10000)\n",
    "\n",
    "df1 = pd.DataFrame({\n",
    "    'value_1': nums_1,\n",
    "})\n",
    "\n",
    "df2 = pd.DataFrame({\n",
    "    'value_2': nums_2,\n",
    "})\n",
    "\n",
    "plt.clf()\n",
    "ax = plt.gca()\n",
    "\n",
    "df1.plot(kind='hist', ax=ax, density=True, alpha=0.5)\n",
    "df2.plot(kind='hist', ax=ax, density=True, alpha=0.5)\n",
    "\n",
    "ax.set_ylabel('Density')\n",
    "\n",
    "add_grid()"
   ]
  },
  {
   "cell_type": "markdown",
   "id": "427a43a3",
   "metadata": {},
   "source": [
    "## group large values in \"others\" bucket"
   ]
  },
  {
   "cell_type": "code",
   "execution_count": 4,
   "id": "ab14471d",
   "metadata": {},
   "outputs": [
    {
     "data": {
      "text/html": [
       "<div>\n",
       "<style scoped>\n",
       "    .dataframe tbody tr th:only-of-type {\n",
       "        vertical-align: middle;\n",
       "    }\n",
       "\n",
       "    .dataframe tbody tr th {\n",
       "        vertical-align: top;\n",
       "    }\n",
       "\n",
       "    .dataframe thead th {\n",
       "        text-align: right;\n",
       "    }\n",
       "</style>\n",
       "<table border=\"1\" class=\"dataframe\">\n",
       "  <thead>\n",
       "    <tr style=\"text-align: right;\">\n",
       "      <th></th>\n",
       "      <th>name</th>\n",
       "      <th>age</th>\n",
       "    </tr>\n",
       "  </thead>\n",
       "  <tbody>\n",
       "    <tr>\n",
       "      <th>9</th>\n",
       "      <td>Ashley Moss</td>\n",
       "      <td>38</td>\n",
       "    </tr>\n",
       "    <tr>\n",
       "      <th>62</th>\n",
       "      <td>Troy Wright</td>\n",
       "      <td>7</td>\n",
       "    </tr>\n",
       "    <tr>\n",
       "      <th>73</th>\n",
       "      <td>Kelly Hodge</td>\n",
       "      <td>95</td>\n",
       "    </tr>\n",
       "    <tr>\n",
       "      <th>87</th>\n",
       "      <td>Katherine Mejia</td>\n",
       "      <td>30</td>\n",
       "    </tr>\n",
       "    <tr>\n",
       "      <th>39</th>\n",
       "      <td>Michael Combs</td>\n",
       "      <td>9</td>\n",
       "    </tr>\n",
       "  </tbody>\n",
       "</table>\n",
       "</div>"
      ],
      "text/plain": [
       "               name  age\n",
       "9       Ashley Moss   38\n",
       "62      Troy Wright    7\n",
       "73      Kelly Hodge   95\n",
       "87  Katherine Mejia   30\n",
       "39    Michael Combs    9"
      ]
     },
     "execution_count": 4,
     "metadata": {},
     "output_type": "execute_result"
    }
   ],
   "source": [
    "random.seed(44)\n",
    "\n",
    "fake = Faker()\n",
    "\n",
    "df = pd.DataFrame([{\n",
    "    'name':fake.name(),\n",
    "    'age': random.randint(1,120),\n",
    "} for i in range(0,100)])\n",
    "\n",
    "df.sample(5)"
   ]
  },
  {
   "cell_type": "code",
   "execution_count": 5,
   "id": "e07bd4f0",
   "metadata": {},
   "outputs": [
    {
     "name": "stderr",
     "output_type": "stream",
     "text": [
      "/tmp/ipykernel_17972/1535118683.py:30: UserWarning: FixedFormatter should only be used together with FixedLocator\n",
      "  plt.gca().set_xticklabels([format_text(x, max_value, '+∞') for x in current_ticklabels])\n"
     ]
    },
    {
     "data": {
      "image/png": "[encoded data removed]",
      "text/plain": [
       "<Figure size 792x360 with 1 Axes>"
      ]
     },
     "metadata": {
      "needs_background": "light"
     },
     "output_type": "display_data"
    }
   ],
   "source": [
    "fake = Faker()\n",
    "\n",
    "random.seed(44)\n",
    "\n",
    "# function to format the label\n",
    "def format_text(current_value, max_value, label):\n",
    "    return label if current_value > max_value else f'{current_value:.0f}'\n",
    "\n",
    "# install via pip install faker\n",
    "from faker import Faker\n",
    "\n",
    "random.seed(44)\n",
    "\n",
    "df = pd.DataFrame([{\n",
    "    'name':fake.name(),\n",
    "    'age': random.randint(1,120),\n",
    "} for i in range(0,100)])\n",
    "\n",
    "# define the bins\n",
    "step_size          = 20\n",
    "max_tick           = 100 \n",
    "original_bins      = np.arange(0, max_tick+1, step_size)\n",
    "new_bins           = np.append(original_bins, [max_tick+step_size+1])\n",
    "max_value          = max(original_bins)\n",
    "\n",
    "df[['age']].plot(kind='hist', bins=new_bins, rwidth=0.8)\n",
    "\n",
    "current_ticklabels = plt.gca().get_xticks()\n",
    "\n",
    "plt.gca().set_xticklabels([format_text(x, max_value, '+∞') for x in current_ticklabels])\n",
    "plt.gca().set_ylim(0,30)\n",
    "plt.gcf().set_size_inches(11,5)\n",
    "plt.show()\n"
   ]
  },
  {
   "cell_type": "code",
   "execution_count": null,
   "id": "062d0b72",
   "metadata": {},
   "outputs": [],
   "source": []
  },
  {
   "cell_type": "code",
   "execution_count": null,
   "id": "9e70abd6",
   "metadata": {},
   "outputs": [],
   "source": []
  },
  {
   "cell_type": "code",
   "execution_count": null,
   "id": "451bfd7e",
   "metadata": {},
   "outputs": [],
   "source": []
  },
  {
   "cell_type": "code",
   "execution_count": null,
   "id": "7f2481eb",
   "metadata": {},
   "outputs": [],
   "source": []
  }
 ],
 "metadata": {
  "kernelspec": {
   "display_name": "Python 3 (ipykernel)",
   "language": "python",
   "name": "python3"
  },
  "language_info": {
   "codemirror_mode": {
    "name": "ipython",
    "version": 3
   },
   "file_extension": ".py",
   "mimetype": "text/x-python",
   "name": "python",
   "nbconvert_exporter": "python",
   "pygments_lexer": "ipython3",
   "version": "3.8.10"
  }
 },
 "nbformat": 4,
 "nbformat_minor": 5
}
