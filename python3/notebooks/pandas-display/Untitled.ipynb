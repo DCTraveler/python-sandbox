{
 "cells": [
  {
   "cell_type": "code",
   "execution_count": 1,
   "metadata": {
    "ExecuteTime": {
     "end_time": "2021-06-30T01:24:40.716604Z",
     "start_time": "2021-06-30T01:24:40.324044Z"
    }
   },
   "outputs": [],
   "source": [
    "import pandas as pd"
   ]
  },
  {
   "cell_type": "code",
   "execution_count": 2,
   "metadata": {
    "ExecuteTime": {
     "end_time": "2021-06-30T01:24:40.727871Z",
     "start_time": "2021-06-30T01:24:40.718186Z"
    }
   },
   "outputs": [
    {
     "data": {
      "text/plain": [
       "'0.25.3'"
      ]
     },
     "execution_count": 2,
     "metadata": {},
     "output_type": "execute_result"
    }
   ],
   "source": [
    "pd.__version__"
   ]
  },
  {
   "cell_type": "markdown",
   "metadata": {},
   "source": [
    "## full text columns"
   ]
  },
  {
   "cell_type": "code",
   "execution_count": 3,
   "metadata": {
    "ExecuteTime": {
     "end_time": "2021-06-30T01:24:43.804328Z",
     "start_time": "2021-06-30T01:24:43.769577Z"
    }
   },
   "outputs": [
    {
     "data": {
      "text/html": [
       "<div>\n",
       "<style scoped>\n",
       "    .dataframe tbody tr th:only-of-type {\n",
       "        vertical-align: middle;\n",
       "    }\n",
       "\n",
       "    .dataframe tbody tr th {\n",
       "        vertical-align: top;\n",
       "    }\n",
       "\n",
       "    .dataframe thead th {\n",
       "        text-align: right;\n",
       "    }\n",
       "</style>\n",
       "<table border=\"1\" class=\"dataframe\">\n",
       "  <thead>\n",
       "    <tr style=\"text-align: right;\">\n",
       "      <th></th>\n",
       "      <th>title</th>\n",
       "      <th>text</th>\n",
       "    </tr>\n",
       "  </thead>\n",
       "  <tbody>\n",
       "    <tr>\n",
       "      <th>0</th>\n",
       "      <td>foo</td>\n",
       "      <td>Lorem ipsum dolor sit amet, consectetur adipis...</td>\n",
       "    </tr>\n",
       "    <tr>\n",
       "      <th>1</th>\n",
       "      <td>bar</td>\n",
       "      <td>Morbi auctor tortor ut ullamcorper congue. Int...</td>\n",
       "    </tr>\n",
       "    <tr>\n",
       "      <th>2</th>\n",
       "      <td>baz</td>\n",
       "      <td>Lorem ipsum dolor sit amet, consectetur adipis...</td>\n",
       "    </tr>\n",
       "    <tr>\n",
       "      <th>3</th>\n",
       "      <td>quux</td>\n",
       "      <td>Nam feugiat dapibus elit, nec congue augue ali...</td>\n",
       "    </tr>\n",
       "    <tr>\n",
       "      <th>4</th>\n",
       "      <td>bang</td>\n",
       "      <td>Maecenas vestibulum rhoncus lectus, quis venen...</td>\n",
       "    </tr>\n",
       "  </tbody>\n",
       "</table>\n",
       "</div>"
      ],
      "text/plain": [
       "  title                                               text\n",
       "0   foo  Lorem ipsum dolor sit amet, consectetur adipis...\n",
       "1   bar  Morbi auctor tortor ut ullamcorper congue. Int...\n",
       "2   baz  Lorem ipsum dolor sit amet, consectetur adipis...\n",
       "3  quux  Nam feugiat dapibus elit, nec congue augue ali...\n",
       "4  bang  Maecenas vestibulum rhoncus lectus, quis venen..."
      ]
     },
     "execution_count": 3,
     "metadata": {},
     "output_type": "execute_result"
    }
   ],
   "source": [
    "pd.DataFrame({\n",
    "    \"title\":[\"foo\",\"bar\",\"baz\",\"quux\",\"bang\"],\n",
    "    \"text\":[\n",
    "        \"Lorem ipsum dolor sit amet, consectetur adipiscing elit. Sed efficitur neque ac lectus sodales, non elementum dui iaculis. Nullam eget libero elementum, sollicitudin enim ac, vestibulum elit. Pellentesque porttitor posuere ipsum non ullamcorper. Maecenas consequat eleifend fermentum. Suspendisse eget neque quis mauris ultricies egestas nec quis velit. Nam commodo et nisl vitae consequat. Orci varius natoque penatibus et magnis dis parturient montes, nascetur ridiculus mus. Duis nec convallis purus. Etiam sapien diam, rutrum non nisl id, malesuada pretium mauris. Praesent eget aliquam massa.\",\n",
    "        \"Morbi auctor tortor ut ullamcorper congue. Integer pretium magna nisl. Cras commodo urna eget mi convallis dignissim id et sem. Nullam nec arcu dignissim justo tincidunt placerat. Quisque mattis augue viverra neque elementum pretium. Vivamus non ex non mi pretium efficitur. Phasellus ut efficitur ante. Mauris et nibh purus.\",\n",
    "        \"Lorem ipsum dolor sit amet, consectetur adipiscing elit. Etiam eleifend bibendum elit, eu pharetra nulla venenatis ut. Maecenas non laoreet dolor. Donec nec lorem ut erat porttitor laoreet id in ipsum. Nullam nec metus nec magna vestibulum bibendum eget at risus. Nulla nisl metus, malesuada non urna eu, ullamcorper dapibus massa. Maecenas mattis aliquet arcu, at iaculis est fermentum in. Morbi vehicula mauris nec urna faucibus egestas. Nam ac odio et ex blandit congue. Etiam elementum diam vel tellus luctus cursus. Vestibulum nec diam eget orci cursus mollis. Nunc justo libero, viverra a cursus vitae, sagittis a diam. Maecenas egestas, turpis eget mattis maximus, diam justo feugiat nulla, a maximus ex urna ut erat.\",\n",
    "        \"Nam feugiat dapibus elit, nec congue augue aliquet non. Phasellus commodo tincidunt sagittis. Mauris eu nulla enim. Sed quis condimentum eros, non blandit ex. Maecenas interdum neque et leo fermentum, efficitur blandit urna sollicitudin. In hac habitasse platea dictumst. Etiam ac nunc pulvinar, porta nisl ac, ullamcorper augue. Maecenas vulputate enim nisi, sed molestie ligula consequat a. Nullam laoreet vitae nulla id laoreet. Ut eu hendrerit dui, vel laoreet eros. Cras mattis mi id erat sollicitudin, non commodo ipsum maximus. Aenean elit magna, commodo eu nunc in, efficitur scelerisque leo. Cras euismod hendrerit bibendum. Nullam quam nibh, feugiat in nibh eget, blandit malesuada lacus. Maecenas a nisl eu neque hendrerit volutpat id at velit. Phasellus risus elit, tempor vel efficitur ac, dictum at nibh.\",\n",
    "        \"Maecenas vestibulum rhoncus lectus, quis venenatis sapien. Nullam fringilla quam non dui mollis sodales. Suspendisse turpis ligula, faucibus hendrerit tempor quis, dignissim et metus. Mauris felis mi, sagittis tristique orci id, condimentum scelerisque lectus. Morbi pharetra mi eu ipsum venenatis mattis. Praesent vestibulum, metus a congue gravida, neque ante tempus leo, et lacinia ipsum enim sed lorem. Etiam ipsum lacus, tincidunt id ex sit amet, sollicitudin faucibus velit. Fusce pulvinar tincidunt vestibulum. Proin id iaculis magna. Nullam ut tellus convallis, gravida arcu vel, congue sem. Integer aliquam condimentum neque, eget eleifend nulla accumsan ultricies. Pellentesque volutpat, ante ac convallis imperdiet, felis ex euismod mauris, vitae posuere justo erat nec urna. Aliquam laoreet purus sed diam aliquam eleifend.\"\n",
    "    ]\n",
    "})"
   ]
  },
  {
   "cell_type": "code",
   "execution_count": 4,
   "metadata": {
    "ExecuteTime": {
     "end_time": "2021-06-30T01:24:46.195928Z",
     "start_time": "2021-06-30T01:24:46.169827Z"
    }
   },
   "outputs": [
    {
     "data": {
      "text/html": [
       "<div>\n",
       "<style scoped>\n",
       "    .dataframe tbody tr th:only-of-type {\n",
       "        vertical-align: middle;\n",
       "    }\n",
       "\n",
       "    .dataframe tbody tr th {\n",
       "        vertical-align: top;\n",
       "    }\n",
       "\n",
       "    .dataframe thead th {\n",
       "        text-align: right;\n",
       "    }\n",
       "</style>\n",
       "<table border=\"1\" class=\"dataframe\">\n",
       "  <thead>\n",
       "    <tr style=\"text-align: right;\">\n",
       "      <th></th>\n",
       "      <th>title</th>\n",
       "      <th>text</th>\n",
       "    </tr>\n",
       "  </thead>\n",
       "  <tbody>\n",
       "    <tr>\n",
       "      <th>0</th>\n",
       "      <td>foo</td>\n",
       "      <td>Lorem ipsum dolor sit amet, consectetur adipiscing elit. Sed efficitur neque ac lectus sodales, non elementum dui iaculis. Nullam eget libero elementum, sollicitudin enim ac, vestibulum elit. Pellentesque porttitor posuere ipsum non ullamcorper. Maecenas consequat eleifend fermentum. Suspendisse eget neque quis mauris ultricies egestas nec quis velit. Nam commodo et nisl vitae consequat. Orci varius natoque penatibus et magnis dis parturient montes, nascetur ridiculus mus. Duis nec convallis purus. Etiam sapien diam, rutrum non nisl id, malesuada pretium mauris. Praesent eget aliquam massa.</td>\n",
       "    </tr>\n",
       "    <tr>\n",
       "      <th>1</th>\n",
       "      <td>bar</td>\n",
       "      <td>Morbi auctor tortor ut ullamcorper congue. Integer pretium magna nisl. Cras commodo urna eget mi convallis dignissim id et sem. Nullam nec arcu dignissim justo tincidunt placerat. Quisque mattis augue viverra neque elementum pretium. Vivamus non ex non mi pretium efficitur. Phasellus ut efficitur ante. Mauris et nibh purus.</td>\n",
       "    </tr>\n",
       "    <tr>\n",
       "      <th>2</th>\n",
       "      <td>baz</td>\n",
       "      <td>Lorem ipsum dolor sit amet, consectetur adipiscing elit. Etiam eleifend bibendum elit, eu pharetra nulla venenatis ut. Maecenas non laoreet dolor. Donec nec lorem ut erat porttitor laoreet id in ipsum. Nullam nec metus nec magna vestibulum bibendum eget at risus. Nulla nisl metus, malesuada non urna eu, ullamcorper dapibus massa. Maecenas mattis aliquet arcu, at iaculis est fermentum in. Morbi vehicula mauris nec urna faucibus egestas. Nam ac odio et ex blandit congue. Etiam elementum diam vel tellus luctus cursus. Vestibulum nec diam eget orci cursus mollis. Nunc justo libero, viverra a cursus vitae, sagittis a diam. Maecenas egestas, turpis eget mattis maximus, diam justo feugiat nulla, a maximus ex urna ut erat.</td>\n",
       "    </tr>\n",
       "    <tr>\n",
       "      <th>3</th>\n",
       "      <td>quux</td>\n",
       "      <td>Nam feugiat dapibus elit, nec congue augue aliquet non. Phasellus commodo tincidunt sagittis. Mauris eu nulla enim. Sed quis condimentum eros, non blandit ex. Maecenas interdum neque et leo fermentum, efficitur blandit urna sollicitudin. In hac habitasse platea dictumst. Etiam ac nunc pulvinar, porta nisl ac, ullamcorper augue. Maecenas vulputate enim nisi, sed molestie ligula consequat a. Nullam laoreet vitae nulla id laoreet. Ut eu hendrerit dui, vel laoreet eros. Cras mattis mi id erat sollicitudin, non commodo ipsum maximus. Aenean elit magna, commodo eu nunc in, efficitur scelerisque leo. Cras euismod hendrerit bibendum. Nullam quam nibh, feugiat in nibh eget, blandit malesuada lacus. Maecenas a nisl eu neque hendrerit volutpat id at velit. Phasellus risus elit, tempor vel efficitur ac, dictum at nibh.</td>\n",
       "    </tr>\n",
       "    <tr>\n",
       "      <th>4</th>\n",
       "      <td>bang</td>\n",
       "      <td>Maecenas vestibulum rhoncus lectus, quis venenatis sapien. Nullam fringilla quam non dui mollis sodales. Suspendisse turpis ligula, faucibus hendrerit tempor quis, dignissim et metus. Mauris felis mi, sagittis tristique orci id, condimentum scelerisque lectus. Morbi pharetra mi eu ipsum venenatis mattis. Praesent vestibulum, metus a congue gravida, neque ante tempus leo, et lacinia ipsum enim sed lorem. Etiam ipsum lacus, tincidunt id ex sit amet, sollicitudin faucibus velit. Fusce pulvinar tincidunt vestibulum. Proin id iaculis magna. Nullam ut tellus convallis, gravida arcu vel, congue sem. Integer aliquam condimentum neque, eget eleifend nulla accumsan ultricies. Pellentesque volutpat, ante ac convallis imperdiet, felis ex euismod mauris, vitae posuere justo erat nec urna. Aliquam laoreet purus sed diam aliquam eleifend.</td>\n",
       "    </tr>\n",
       "  </tbody>\n",
       "</table>\n",
       "</div>"
      ],
      "text/plain": [
       "  title  \\\n",
       "0   foo   \n",
       "1   bar   \n",
       "2   baz   \n",
       "3  quux   \n",
       "4  bang   \n",
       "\n",
       "                                                                                                                                                                                                                                                                                                                                                                                                                                                                                                                                                                                                                                                                                                                                                                                                                                                                  text  \n",
       "0                                                                                                                                                                                                                                                Lorem ipsum dolor sit amet, consectetur adipiscing elit. Sed efficitur neque ac lectus sodales, non elementum dui iaculis. Nullam eget libero elementum, sollicitudin enim ac, vestibulum elit. Pellentesque porttitor posuere ipsum non ullamcorper. Maecenas consequat eleifend fermentum. Suspendisse eget neque quis mauris ultricies egestas nec quis velit. Nam commodo et nisl vitae consequat. Orci varius natoque penatibus et magnis dis parturient montes, nascetur ridiculus mus. Duis nec convallis purus. Etiam sapien diam, rutrum non nisl id, malesuada pretium mauris. Praesent eget aliquam massa.  \n",
       "1                                                                                                                                                                                                                                                                                                                                                                                                                                                                                                                                Morbi auctor tortor ut ullamcorper congue. Integer pretium magna nisl. Cras commodo urna eget mi convallis dignissim id et sem. Nullam nec arcu dignissim justo tincidunt placerat. Quisque mattis augue viverra neque elementum pretium. Vivamus non ex non mi pretium efficitur. Phasellus ut efficitur ante. Mauris et nibh purus.  \n",
       "2                                                                                                                 Lorem ipsum dolor sit amet, consectetur adipiscing elit. Etiam eleifend bibendum elit, eu pharetra nulla venenatis ut. Maecenas non laoreet dolor. Donec nec lorem ut erat porttitor laoreet id in ipsum. Nullam nec metus nec magna vestibulum bibendum eget at risus. Nulla nisl metus, malesuada non urna eu, ullamcorper dapibus massa. Maecenas mattis aliquet arcu, at iaculis est fermentum in. Morbi vehicula mauris nec urna faucibus egestas. Nam ac odio et ex blandit congue. Etiam elementum diam vel tellus luctus cursus. Vestibulum nec diam eget orci cursus mollis. Nunc justo libero, viverra a cursus vitae, sagittis a diam. Maecenas egestas, turpis eget mattis maximus, diam justo feugiat nulla, a maximus ex urna ut erat.  \n",
       "3                   Nam feugiat dapibus elit, nec congue augue aliquet non. Phasellus commodo tincidunt sagittis. Mauris eu nulla enim. Sed quis condimentum eros, non blandit ex. Maecenas interdum neque et leo fermentum, efficitur blandit urna sollicitudin. In hac habitasse platea dictumst. Etiam ac nunc pulvinar, porta nisl ac, ullamcorper augue. Maecenas vulputate enim nisi, sed molestie ligula consequat a. Nullam laoreet vitae nulla id laoreet. Ut eu hendrerit dui, vel laoreet eros. Cras mattis mi id erat sollicitudin, non commodo ipsum maximus. Aenean elit magna, commodo eu nunc in, efficitur scelerisque leo. Cras euismod hendrerit bibendum. Nullam quam nibh, feugiat in nibh eget, blandit malesuada lacus. Maecenas a nisl eu neque hendrerit volutpat id at velit. Phasellus risus elit, tempor vel efficitur ac, dictum at nibh.  \n",
       "4  Maecenas vestibulum rhoncus lectus, quis venenatis sapien. Nullam fringilla quam non dui mollis sodales. Suspendisse turpis ligula, faucibus hendrerit tempor quis, dignissim et metus. Mauris felis mi, sagittis tristique orci id, condimentum scelerisque lectus. Morbi pharetra mi eu ipsum venenatis mattis. Praesent vestibulum, metus a congue gravida, neque ante tempus leo, et lacinia ipsum enim sed lorem. Etiam ipsum lacus, tincidunt id ex sit amet, sollicitudin faucibus velit. Fusce pulvinar tincidunt vestibulum. Proin id iaculis magna. Nullam ut tellus convallis, gravida arcu vel, congue sem. Integer aliquam condimentum neque, eget eleifend nulla accumsan ultricies. Pellentesque volutpat, ante ac convallis imperdiet, felis ex euismod mauris, vitae posuere justo erat nec urna. Aliquam laoreet purus sed diam aliquam eleifend.  "
      ]
     },
     "execution_count": 4,
     "metadata": {},
     "output_type": "execute_result"
    }
   ],
   "source": [
    "pd.set_option('display.max_colwidth',1000)\n",
    "pd.DataFrame({\n",
    "    \"title\":[\"foo\",\"bar\",\"baz\",\"quux\",\"bang\"],\n",
    "    \"text\":[\n",
    "        \"Lorem ipsum dolor sit amet, consectetur adipiscing elit. Sed efficitur neque ac lectus sodales, non elementum dui iaculis. Nullam eget libero elementum, sollicitudin enim ac, vestibulum elit. Pellentesque porttitor posuere ipsum non ullamcorper. Maecenas consequat eleifend fermentum. Suspendisse eget neque quis mauris ultricies egestas nec quis velit. Nam commodo et nisl vitae consequat. Orci varius natoque penatibus et magnis dis parturient montes, nascetur ridiculus mus. Duis nec convallis purus. Etiam sapien diam, rutrum non nisl id, malesuada pretium mauris. Praesent eget aliquam massa.\",\n",
    "        \"Morbi auctor tortor ut ullamcorper congue. Integer pretium magna nisl. Cras commodo urna eget mi convallis dignissim id et sem. Nullam nec arcu dignissim justo tincidunt placerat. Quisque mattis augue viverra neque elementum pretium. Vivamus non ex non mi pretium efficitur. Phasellus ut efficitur ante. Mauris et nibh purus.\",\n",
    "        \"Lorem ipsum dolor sit amet, consectetur adipiscing elit. Etiam eleifend bibendum elit, eu pharetra nulla venenatis ut. Maecenas non laoreet dolor. Donec nec lorem ut erat porttitor laoreet id in ipsum. Nullam nec metus nec magna vestibulum bibendum eget at risus. Nulla nisl metus, malesuada non urna eu, ullamcorper dapibus massa. Maecenas mattis aliquet arcu, at iaculis est fermentum in. Morbi vehicula mauris nec urna faucibus egestas. Nam ac odio et ex blandit congue. Etiam elementum diam vel tellus luctus cursus. Vestibulum nec diam eget orci cursus mollis. Nunc justo libero, viverra a cursus vitae, sagittis a diam. Maecenas egestas, turpis eget mattis maximus, diam justo feugiat nulla, a maximus ex urna ut erat.\",\n",
    "        \"Nam feugiat dapibus elit, nec congue augue aliquet non. Phasellus commodo tincidunt sagittis. Mauris eu nulla enim. Sed quis condimentum eros, non blandit ex. Maecenas interdum neque et leo fermentum, efficitur blandit urna sollicitudin. In hac habitasse platea dictumst. Etiam ac nunc pulvinar, porta nisl ac, ullamcorper augue. Maecenas vulputate enim nisi, sed molestie ligula consequat a. Nullam laoreet vitae nulla id laoreet. Ut eu hendrerit dui, vel laoreet eros. Cras mattis mi id erat sollicitudin, non commodo ipsum maximus. Aenean elit magna, commodo eu nunc in, efficitur scelerisque leo. Cras euismod hendrerit bibendum. Nullam quam nibh, feugiat in nibh eget, blandit malesuada lacus. Maecenas a nisl eu neque hendrerit volutpat id at velit. Phasellus risus elit, tempor vel efficitur ac, dictum at nibh.\",\n",
    "        \"Maecenas vestibulum rhoncus lectus, quis venenatis sapien. Nullam fringilla quam non dui mollis sodales. Suspendisse turpis ligula, faucibus hendrerit tempor quis, dignissim et metus. Mauris felis mi, sagittis tristique orci id, condimentum scelerisque lectus. Morbi pharetra mi eu ipsum venenatis mattis. Praesent vestibulum, metus a congue gravida, neque ante tempus leo, et lacinia ipsum enim sed lorem. Etiam ipsum lacus, tincidunt id ex sit amet, sollicitudin faucibus velit. Fusce pulvinar tincidunt vestibulum. Proin id iaculis magna. Nullam ut tellus convallis, gravida arcu vel, congue sem. Integer aliquam condimentum neque, eget eleifend nulla accumsan ultricies. Pellentesque volutpat, ante ac convallis imperdiet, felis ex euismod mauris, vitae posuere justo erat nec urna. Aliquam laoreet purus sed diam aliquam eleifend.\"\n",
    "    ]\n",
    "})"
   ]
  },
  {
   "cell_type": "markdown",
   "metadata": {},
   "source": [
    "## disable scientific notation"
   ]
  },
  {
   "cell_type": "code",
   "execution_count": 5,
   "metadata": {
    "ExecuteTime": {
     "end_time": "2021-06-30T01:24:46.975776Z",
     "start_time": "2021-06-30T01:24:46.963211Z"
    }
   },
   "outputs": [
    {
     "data": {
      "text/html": [
       "<div>\n",
       "<style scoped>\n",
       "    .dataframe tbody tr th:only-of-type {\n",
       "        vertical-align: middle;\n",
       "    }\n",
       "\n",
       "    .dataframe tbody tr th {\n",
       "        vertical-align: top;\n",
       "    }\n",
       "\n",
       "    .dataframe thead th {\n",
       "        text-align: right;\n",
       "    }\n",
       "</style>\n",
       "<table border=\"1\" class=\"dataframe\">\n",
       "  <thead>\n",
       "    <tr style=\"text-align: right;\">\n",
       "      <th></th>\n",
       "      <th>num</th>\n",
       "      <th>str</th>\n",
       "    </tr>\n",
       "  </thead>\n",
       "  <tbody>\n",
       "    <tr>\n",
       "      <th>0</th>\n",
       "      <td>1.000000e-04</td>\n",
       "      <td>foo</td>\n",
       "    </tr>\n",
       "    <tr>\n",
       "      <th>1</th>\n",
       "      <td>1.000000e+07</td>\n",
       "      <td>bar</td>\n",
       "    </tr>\n",
       "    <tr>\n",
       "      <th>2</th>\n",
       "      <td>1.000000e+02</td>\n",
       "      <td>baz</td>\n",
       "    </tr>\n",
       "    <tr>\n",
       "      <th>3</th>\n",
       "      <td>5.000000e-01</td>\n",
       "      <td>quux</td>\n",
       "    </tr>\n",
       "  </tbody>\n",
       "</table>\n",
       "</div>"
      ],
      "text/plain": [
       "            num   str\n",
       "0  1.000000e-04   foo\n",
       "1  1.000000e+07   bar\n",
       "2  1.000000e+02   baz\n",
       "3  5.000000e-01  quux"
      ]
     },
     "execution_count": 5,
     "metadata": {},
     "output_type": "execute_result"
    }
   ],
   "source": [
    "pd.DataFrame({\n",
    "    \"num\":[0.0001, 10000000,100,0.5],\n",
    "    \"str\":[\"foo\",\"bar\",\"baz\",\"quux\"]\n",
    "})"
   ]
  },
  {
   "cell_type": "code",
   "execution_count": 8,
   "metadata": {
    "ExecuteTime": {
     "end_time": "2021-06-30T01:25:14.915488Z",
     "start_time": "2021-06-30T01:25:14.902035Z"
    }
   },
   "outputs": [
    {
     "name": "stdout",
     "output_type": "stream",
     "text": [
      "\n",
      ": boolean\n",
      "    use_inf_as_null had been deprecated and will be removed in a future\n",
      "    version. Use `use_inf_as_na` instead.\n",
      "\n"
     ]
    },
    {
     "name": "stderr",
     "output_type": "stream",
     "text": [
      "/home/felipe/python-ds-util/venv/lib/python3.6/site-packages/pandas/_config/config.py:622: FutureWarning: \n",
      ": boolean\n",
      "    use_inf_as_null had been deprecated and will be removed in a future\n",
      "    version. Use `use_inf_as_na` instead.\n",
      "\n",
      "  warnings.warn(d.msg, FutureWarning)\n"
     ]
    },
    {
     "data": {
      "text/html": [
       "<div>\n",
       "<style scoped>\n",
       "    .dataframe tbody tr th:only-of-type {\n",
       "        vertical-align: middle;\n",
       "    }\n",
       "\n",
       "    .dataframe tbody tr th {\n",
       "        vertical-align: top;\n",
       "    }\n",
       "\n",
       "    .dataframe thead th {\n",
       "        text-align: right;\n",
       "    }\n",
       "</style>\n",
       "<table border=\"1\" class=\"dataframe\">\n",
       "  <thead>\n",
       "    <tr style=\"text-align: right;\">\n",
       "      <th></th>\n",
       "      <th>num</th>\n",
       "      <th>str</th>\n",
       "    </tr>\n",
       "  </thead>\n",
       "  <tbody>\n",
       "    <tr>\n",
       "      <th>0</th>\n",
       "      <td>1.000000e-04</td>\n",
       "      <td>foo</td>\n",
       "    </tr>\n",
       "    <tr>\n",
       "      <th>1</th>\n",
       "      <td>1.000000e+07</td>\n",
       "      <td>bar</td>\n",
       "    </tr>\n",
       "    <tr>\n",
       "      <th>2</th>\n",
       "      <td>1.000000e+02</td>\n",
       "      <td>baz</td>\n",
       "    </tr>\n",
       "    <tr>\n",
       "      <th>3</th>\n",
       "      <td>5.000000e-01</td>\n",
       "      <td>quux</td>\n",
       "    </tr>\n",
       "  </tbody>\n",
       "</table>\n",
       "</div>"
      ],
      "text/plain": [
       "            num   str\n",
       "0  1.000000e-04   foo\n",
       "1  1.000000e+07   bar\n",
       "2  1.000000e+02   baz\n",
       "3  5.000000e-01  quux"
      ]
     },
     "execution_count": 8,
     "metadata": {},
     "output_type": "execute_result"
    }
   ],
   "source": [
    "# pd.set_option('display.float_format', lambda x: '%8.2f' % x)\n",
    "pd.reset_option(\"all\")\n",
    "\n",
    "pd.DataFrame({\n",
    "    \"num\":[0.0001, 10000000,100,0.5],\n",
    "    \"str\":[\"foo\",\"bar\",\"baz\",\"quux\"]\n",
    "})"
   ]
  },
  {
   "cell_type": "markdown",
   "metadata": {},
   "source": [
    "## thousands"
   ]
  },
  {
   "cell_type": "code",
   "execution_count": 42,
   "metadata": {
    "ExecuteTime": {
     "end_time": "2021-06-30T01:38:27.648774Z",
     "start_time": "2021-06-30T01:38:27.624054Z"
    }
   },
   "outputs": [
    {
     "data": {
      "text/html": [
       "<div>\n",
       "<style scoped>\n",
       "    .dataframe tbody tr th:only-of-type {\n",
       "        vertical-align: middle;\n",
       "    }\n",
       "\n",
       "    .dataframe tbody tr th {\n",
       "        vertical-align: top;\n",
       "    }\n",
       "\n",
       "    .dataframe thead th {\n",
       "        text-align: right;\n",
       "    }\n",
       "</style>\n",
       "<table border=\"1\" class=\"dataframe\">\n",
       "  <thead>\n",
       "    <tr style=\"text-align: right;\">\n",
       "      <th></th>\n",
       "      <th>num</th>\n",
       "      <th>str</th>\n",
       "    </tr>\n",
       "  </thead>\n",
       "  <tbody>\n",
       "    <tr>\n",
       "      <th>0</th>\n",
       "      <td>100,000.00</td>\n",
       "      <td>foo</td>\n",
       "    </tr>\n",
       "    <tr>\n",
       "      <th>1</th>\n",
       "      <td>100.00</td>\n",
       "      <td>bar</td>\n",
       "    </tr>\n",
       "    <tr>\n",
       "      <th>2</th>\n",
       "      <td>100.00</td>\n",
       "      <td>baz</td>\n",
       "    </tr>\n",
       "    <tr>\n",
       "      <th>3</th>\n",
       "      <td>200.50</td>\n",
       "      <td>quux</td>\n",
       "    </tr>\n",
       "  </tbody>\n",
       "</table>\n",
       "</div>"
      ],
      "text/plain": [
       "         num   str\n",
       "0 100,000.00   foo\n",
       "1     100.00   bar\n",
       "2     100.00   baz\n",
       "3     200.50  quux"
      ]
     },
     "execution_count": 42,
     "metadata": {},
     "output_type": "execute_result"
    }
   ],
   "source": [
    "pd.set_option('display.float_format', lambda x: '{:,.2f}'.format(x))\n",
    "# pd.reset_option(\"all\")\n",
    "pd.DataFrame({\n",
    "    \"num\":[100000, 100,100,200.50],\n",
    "    \"str\":[\"foo\",\"bar\",\"baz\",\"quux\"]\n",
    "})"
   ]
  },
  {
   "cell_type": "code",
   "execution_count": null,
   "metadata": {},
   "outputs": [],
   "source": []
  }
 ],
 "metadata": {
  "kernelspec": {
   "display_name": "Python 3",
   "language": "python",
   "name": "python3"
  },
  "language_info": {
   "codemirror_mode": {
    "name": "ipython",
    "version": 3
   },
   "file_extension": ".py",
   "mimetype": "text/x-python",
   "name": "python",
   "nbconvert_exporter": "python",
   "pygments_lexer": "ipython3",
   "version": "3.6.9"
  },
  "toc": {
   "base_numbering": 1,
   "nav_menu": {},
   "number_sections": true,
   "sideBar": true,
   "skip_h1_title": false,
   "title_cell": "Table of Contents",
   "title_sidebar": "Contents",
   "toc_cell": false,
   "toc_position": {},
   "toc_section_display": true,
   "toc_window_display": false
  }
 },
 "nbformat": 4,
 "nbformat_minor": 4
}
