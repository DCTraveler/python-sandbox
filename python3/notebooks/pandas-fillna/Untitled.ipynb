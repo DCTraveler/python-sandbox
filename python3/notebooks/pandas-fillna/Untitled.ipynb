{
 "cells": [
  {
   "cell_type": "code",
   "execution_count": 29,
   "id": "1cad2217",
   "metadata": {},
   "outputs": [],
   "source": [
    "import pandas as pd\n",
    "import matplotlib\n",
    "import random\n",
    "import matplotlib.pyplot as plt\n",
    "import numpy as np\n",
    "from dsutil.plotting import *\n",
    "\n",
    "from faker import Faker\n",
    "from platform import python_version\n",
    "\n",
    "pd.set_option(\"precision\", 2)"
   ]
  },
  {
   "cell_type": "code",
   "execution_count": 30,
   "id": "936b5b57",
   "metadata": {},
   "outputs": [
    {
     "data": {
      "text/plain": [
       "('3.8.10', '1.3.2', '3.4.3')"
      ]
     },
     "execution_count": 30,
     "metadata": {},
     "output_type": "execute_result"
    }
   ],
   "source": [
    "python_version(), pd.__version__, matplotlib.__version__"
   ]
  },
  {
   "cell_type": "code",
   "execution_count": 49,
   "id": "72e16ad4",
   "metadata": {},
   "outputs": [],
   "source": [
    "def red_if_na(cell_value):\n",
    "\n",
    "    style = 'color: red;'\n",
    "    default = ''\n",
    "\n",
    "    if pd.isna(cell_value):\n",
    "        return style\n",
    "    return default\n",
    "\n",
    "def bold_if_zero(cell_value):\n",
    "    highlight = 'font-weight: bold;'\n",
    "    default = ''\n",
    "    \n",
    "    if cell_value == 0:\n",
    "        return highlight\n",
    "    return default"
   ]
  },
  {
   "cell_type": "markdown",
   "id": "8f2ab2bc",
   "metadata": {},
   "source": [
    "## Fill with value"
   ]
  },
  {
   "cell_type": "code",
   "execution_count": 45,
   "id": "edaab5ed",
   "metadata": {},
   "outputs": [],
   "source": [
    "import pandas as pd\n",
    "import numpy as np\n",
    "\n",
    "df = pd.DataFrame({\n",
    "    'col1': [1.0,   2.0,  3.0,   np.nan, None ],\n",
    "    'col2': [1,     2,    3,     4,      5    ],\n",
    "    'col3': ['foo', None, 'baz', 'quux', 'bax']\n",
    "})"
   ]
  },
  {
   "cell_type": "code",
   "execution_count": 53,
   "id": "5ec61448",
   "metadata": {},
   "outputs": [
    {
     "data": {
      "text/html": [
       "<style type=\"text/css\">\n",
       "#T_d13d6_row1_col2, #T_d13d6_row3_col0, #T_d13d6_row4_col0 {\n",
       "  color: red;\n",
       "}\n",
       "</style>\n",
       "<table id=\"T_d13d6_\">\n",
       "  <thead>\n",
       "    <tr>\n",
       "      <th class=\"blank level0\" >&nbsp;</th>\n",
       "      <th class=\"col_heading level0 col0\" >col1</th>\n",
       "      <th class=\"col_heading level0 col1\" >col2</th>\n",
       "      <th class=\"col_heading level0 col2\" >col3</th>\n",
       "    </tr>\n",
       "  </thead>\n",
       "  <tbody>\n",
       "    <tr>\n",
       "      <th id=\"T_d13d6_level0_row0\" class=\"row_heading level0 row0\" >0</th>\n",
       "      <td id=\"T_d13d6_row0_col0\" class=\"data row0 col0\" >1.00</td>\n",
       "      <td id=\"T_d13d6_row0_col1\" class=\"data row0 col1\" >1</td>\n",
       "      <td id=\"T_d13d6_row0_col2\" class=\"data row0 col2\" >foo</td>\n",
       "    </tr>\n",
       "    <tr>\n",
       "      <th id=\"T_d13d6_level0_row1\" class=\"row_heading level0 row1\" >1</th>\n",
       "      <td id=\"T_d13d6_row1_col0\" class=\"data row1 col0\" >2.00</td>\n",
       "      <td id=\"T_d13d6_row1_col1\" class=\"data row1 col1\" >2</td>\n",
       "      <td id=\"T_d13d6_row1_col2\" class=\"data row1 col2\" >None</td>\n",
       "    </tr>\n",
       "    <tr>\n",
       "      <th id=\"T_d13d6_level0_row2\" class=\"row_heading level0 row2\" >2</th>\n",
       "      <td id=\"T_d13d6_row2_col0\" class=\"data row2 col0\" >3.00</td>\n",
       "      <td id=\"T_d13d6_row2_col1\" class=\"data row2 col1\" >3</td>\n",
       "      <td id=\"T_d13d6_row2_col2\" class=\"data row2 col2\" >baz</td>\n",
       "    </tr>\n",
       "    <tr>\n",
       "      <th id=\"T_d13d6_level0_row3\" class=\"row_heading level0 row3\" >3</th>\n",
       "      <td id=\"T_d13d6_row3_col0\" class=\"data row3 col0\" >nan</td>\n",
       "      <td id=\"T_d13d6_row3_col1\" class=\"data row3 col1\" >4</td>\n",
       "      <td id=\"T_d13d6_row3_col2\" class=\"data row3 col2\" >quux</td>\n",
       "    </tr>\n",
       "    <tr>\n",
       "      <th id=\"T_d13d6_level0_row4\" class=\"row_heading level0 row4\" >4</th>\n",
       "      <td id=\"T_d13d6_row4_col0\" class=\"data row4 col0\" >nan</td>\n",
       "      <td id=\"T_d13d6_row4_col1\" class=\"data row4 col1\" >5</td>\n",
       "      <td id=\"T_d13d6_row4_col2\" class=\"data row4 col2\" >bax</td>\n",
       "    </tr>\n",
       "  </tbody>\n",
       "</table>\n"
      ],
      "text/plain": [
       "<pandas.io.formats.style.Styler at 0x7f5dfeb02df0>"
      ]
     },
     "execution_count": 53,
     "metadata": {},
     "output_type": "execute_result"
    }
   ],
   "source": [
    "df.style.applymap(red_if_na).applymap(bold_if_zero)"
   ]
  },
  {
   "cell_type": "code",
   "execution_count": 52,
   "id": "5aa588b6",
   "metadata": {},
   "outputs": [
    {
     "data": {
      "text/html": [
       "<style type=\"text/css\">\n",
       "#T_3cbd6_row1_col2, #T_3cbd6_row3_col0, #T_3cbd6_row4_col0 {\n",
       "  font-weight: bold;\n",
       "}\n",
       "</style>\n",
       "<table id=\"T_3cbd6_\">\n",
       "  <thead>\n",
       "    <tr>\n",
       "      <th class=\"blank level0\" >&nbsp;</th>\n",
       "      <th class=\"col_heading level0 col0\" >col1</th>\n",
       "      <th class=\"col_heading level0 col1\" >col2</th>\n",
       "      <th class=\"col_heading level0 col2\" >col3</th>\n",
       "    </tr>\n",
       "  </thead>\n",
       "  <tbody>\n",
       "    <tr>\n",
       "      <th id=\"T_3cbd6_level0_row0\" class=\"row_heading level0 row0\" >0</th>\n",
       "      <td id=\"T_3cbd6_row0_col0\" class=\"data row0 col0\" >1.00</td>\n",
       "      <td id=\"T_3cbd6_row0_col1\" class=\"data row0 col1\" >1</td>\n",
       "      <td id=\"T_3cbd6_row0_col2\" class=\"data row0 col2\" >foo</td>\n",
       "    </tr>\n",
       "    <tr>\n",
       "      <th id=\"T_3cbd6_level0_row1\" class=\"row_heading level0 row1\" >1</th>\n",
       "      <td id=\"T_3cbd6_row1_col0\" class=\"data row1 col0\" >2.00</td>\n",
       "      <td id=\"T_3cbd6_row1_col1\" class=\"data row1 col1\" >2</td>\n",
       "      <td id=\"T_3cbd6_row1_col2\" class=\"data row1 col2\" >0</td>\n",
       "    </tr>\n",
       "    <tr>\n",
       "      <th id=\"T_3cbd6_level0_row2\" class=\"row_heading level0 row2\" >2</th>\n",
       "      <td id=\"T_3cbd6_row2_col0\" class=\"data row2 col0\" >3.00</td>\n",
       "      <td id=\"T_3cbd6_row2_col1\" class=\"data row2 col1\" >3</td>\n",
       "      <td id=\"T_3cbd6_row2_col2\" class=\"data row2 col2\" >baz</td>\n",
       "    </tr>\n",
       "    <tr>\n",
       "      <th id=\"T_3cbd6_level0_row3\" class=\"row_heading level0 row3\" >3</th>\n",
       "      <td id=\"T_3cbd6_row3_col0\" class=\"data row3 col0\" >0.00</td>\n",
       "      <td id=\"T_3cbd6_row3_col1\" class=\"data row3 col1\" >4</td>\n",
       "      <td id=\"T_3cbd6_row3_col2\" class=\"data row3 col2\" >quux</td>\n",
       "    </tr>\n",
       "    <tr>\n",
       "      <th id=\"T_3cbd6_level0_row4\" class=\"row_heading level0 row4\" >4</th>\n",
       "      <td id=\"T_3cbd6_row4_col0\" class=\"data row4 col0\" >0.00</td>\n",
       "      <td id=\"T_3cbd6_row4_col1\" class=\"data row4 col1\" >5</td>\n",
       "      <td id=\"T_3cbd6_row4_col2\" class=\"data row4 col2\" >bax</td>\n",
       "    </tr>\n",
       "  </tbody>\n",
       "</table>\n"
      ],
      "text/plain": [
       "<pandas.io.formats.style.Styler at 0x7f5dfe84c4f0>"
      ]
     },
     "execution_count": 52,
     "metadata": {},
     "output_type": "execute_result"
    }
   ],
   "source": [
    "df.fillna(0).style.applymap(is_na).applymap(bold_if_zero)"
   ]
  },
  {
   "cell_type": "markdown",
   "id": "44abe5bc",
   "metadata": {},
   "source": [
    "## Specific column"
   ]
  },
  {
   "cell_type": "markdown",
   "id": "a01cc9d2",
   "metadata": {},
   "source": [
    "\n"
   ]
  },
  {
   "cell_type": "code",
   "execution_count": 58,
   "id": "96f35f62",
   "metadata": {},
   "outputs": [
    {
     "data": {
      "text/html": [
       "<style type=\"text/css\">\n",
       "#T_81586_row1_col2, #T_81586_row3_col0, #T_81586_row4_col0 {\n",
       "  color: red;\n",
       "}\n",
       "</style>\n",
       "<table id=\"T_81586_\">\n",
       "  <thead>\n",
       "    <tr>\n",
       "      <th class=\"blank level0\" >&nbsp;</th>\n",
       "      <th class=\"col_heading level0 col0\" >col1</th>\n",
       "      <th class=\"col_heading level0 col1\" >col2</th>\n",
       "      <th class=\"col_heading level0 col2\" >col3</th>\n",
       "    </tr>\n",
       "  </thead>\n",
       "  <tbody>\n",
       "    <tr>\n",
       "      <th id=\"T_81586_level0_row0\" class=\"row_heading level0 row0\" >0</th>\n",
       "      <td id=\"T_81586_row0_col0\" class=\"data row0 col0\" >1.00</td>\n",
       "      <td id=\"T_81586_row0_col1\" class=\"data row0 col1\" >1</td>\n",
       "      <td id=\"T_81586_row0_col2\" class=\"data row0 col2\" >foo</td>\n",
       "    </tr>\n",
       "    <tr>\n",
       "      <th id=\"T_81586_level0_row1\" class=\"row_heading level0 row1\" >1</th>\n",
       "      <td id=\"T_81586_row1_col0\" class=\"data row1 col0\" >2.00</td>\n",
       "      <td id=\"T_81586_row1_col1\" class=\"data row1 col1\" >2</td>\n",
       "      <td id=\"T_81586_row1_col2\" class=\"data row1 col2\" >None</td>\n",
       "    </tr>\n",
       "    <tr>\n",
       "      <th id=\"T_81586_level0_row2\" class=\"row_heading level0 row2\" >2</th>\n",
       "      <td id=\"T_81586_row2_col0\" class=\"data row2 col0\" >3.00</td>\n",
       "      <td id=\"T_81586_row2_col1\" class=\"data row2 col1\" >3</td>\n",
       "      <td id=\"T_81586_row2_col2\" class=\"data row2 col2\" >baz</td>\n",
       "    </tr>\n",
       "    <tr>\n",
       "      <th id=\"T_81586_level0_row3\" class=\"row_heading level0 row3\" >3</th>\n",
       "      <td id=\"T_81586_row3_col0\" class=\"data row3 col0\" >nan</td>\n",
       "      <td id=\"T_81586_row3_col1\" class=\"data row3 col1\" >4</td>\n",
       "      <td id=\"T_81586_row3_col2\" class=\"data row3 col2\" >quux</td>\n",
       "    </tr>\n",
       "    <tr>\n",
       "      <th id=\"T_81586_level0_row4\" class=\"row_heading level0 row4\" >4</th>\n",
       "      <td id=\"T_81586_row4_col0\" class=\"data row4 col0\" >nan</td>\n",
       "      <td id=\"T_81586_row4_col1\" class=\"data row4 col1\" >5</td>\n",
       "      <td id=\"T_81586_row4_col2\" class=\"data row4 col2\" >bax</td>\n",
       "    </tr>\n",
       "  </tbody>\n",
       "</table>\n"
      ],
      "text/plain": [
       "<pandas.io.formats.style.Styler at 0x7f5dfe5a96a0>"
      ]
     },
     "execution_count": 58,
     "metadata": {},
     "output_type": "execute_result"
    }
   ],
   "source": [
    "import pandas as pd\n",
    "import numpy as np\n",
    "\n",
    "df = pd.DataFrame({\n",
    "    'col1': [1.0,   2.0,  3.0,   np.nan, None ],\n",
    "    'col2': [1,     2,    3,     4,      5    ],\n",
    "    'col3': ['foo', None, 'baz', 'quux', 'bax']\n",
    "})\n",
    "\n",
    "df.style.applymap(red_if_na).applymap(bold_if_zero)"
   ]
  },
  {
   "cell_type": "code",
   "execution_count": 60,
   "id": "2099e8b3",
   "metadata": {},
   "outputs": [
    {
     "data": {
      "text/html": [
       "<style type=\"text/css\">\n",
       "#T_81da7_row1_col2 {\n",
       "  color: red;\n",
       "}\n",
       "</style>\n",
       "<table id=\"T_81da7_\">\n",
       "  <thead>\n",
       "    <tr>\n",
       "      <th class=\"blank level0\" >&nbsp;</th>\n",
       "      <th class=\"col_heading level0 col0\" >col1</th>\n",
       "      <th class=\"col_heading level0 col1\" >col2</th>\n",
       "      <th class=\"col_heading level0 col2\" >col3</th>\n",
       "    </tr>\n",
       "  </thead>\n",
       "  <tbody>\n",
       "    <tr>\n",
       "      <th id=\"T_81da7_level0_row0\" class=\"row_heading level0 row0\" >0</th>\n",
       "      <td id=\"T_81da7_row0_col0\" class=\"data row0 col0\" >1.00</td>\n",
       "      <td id=\"T_81da7_row0_col1\" class=\"data row0 col1\" >1</td>\n",
       "      <td id=\"T_81da7_row0_col2\" class=\"data row0 col2\" >foo</td>\n",
       "    </tr>\n",
       "    <tr>\n",
       "      <th id=\"T_81da7_level0_row1\" class=\"row_heading level0 row1\" >1</th>\n",
       "      <td id=\"T_81da7_row1_col0\" class=\"data row1 col0\" >2.00</td>\n",
       "      <td id=\"T_81da7_row1_col1\" class=\"data row1 col1\" >2</td>\n",
       "      <td id=\"T_81da7_row1_col2\" class=\"data row1 col2\" >None</td>\n",
       "    </tr>\n",
       "    <tr>\n",
       "      <th id=\"T_81da7_level0_row2\" class=\"row_heading level0 row2\" >2</th>\n",
       "      <td id=\"T_81da7_row2_col0\" class=\"data row2 col0\" >3.00</td>\n",
       "      <td id=\"T_81da7_row2_col1\" class=\"data row2 col1\" >3</td>\n",
       "      <td id=\"T_81da7_row2_col2\" class=\"data row2 col2\" >baz</td>\n",
       "    </tr>\n",
       "    <tr>\n",
       "      <th id=\"T_81da7_level0_row3\" class=\"row_heading level0 row3\" >3</th>\n",
       "      <td id=\"T_81da7_row3_col0\" class=\"data row3 col0\" >-</td>\n",
       "      <td id=\"T_81da7_row3_col1\" class=\"data row3 col1\" >4</td>\n",
       "      <td id=\"T_81da7_row3_col2\" class=\"data row3 col2\" >quux</td>\n",
       "    </tr>\n",
       "    <tr>\n",
       "      <th id=\"T_81da7_level0_row4\" class=\"row_heading level0 row4\" >4</th>\n",
       "      <td id=\"T_81da7_row4_col0\" class=\"data row4 col0\" >-</td>\n",
       "      <td id=\"T_81da7_row4_col1\" class=\"data row4 col1\" >5</td>\n",
       "      <td id=\"T_81da7_row4_col2\" class=\"data row4 col2\" >bax</td>\n",
       "    </tr>\n",
       "  </tbody>\n",
       "</table>\n"
      ],
      "text/plain": [
       "<pandas.io.formats.style.Styler at 0x7f5dfeb02a90>"
      ]
     },
     "execution_count": 60,
     "metadata": {},
     "output_type": "execute_result"
    }
   ],
   "source": [
    "df.fillna({\"col1\": \"-\"}).style.applymap(is_na).applymap(bold_if_zero)"
   ]
  },
  {
   "cell_type": "markdown",
   "id": "1fad6887",
   "metadata": {},
   "source": [
    "## Specific row"
   ]
  },
  {
   "cell_type": "code",
   "execution_count": 128,
   "id": "4586e26f",
   "metadata": {},
   "outputs": [
    {
     "data": {
      "text/html": [
       "<style type=\"text/css\">\n",
       "#T_d9837_row1_col0, #T_d9837_row1_col2, #T_d9837_row3_col0, #T_d9837_row4_col0 {\n",
       "  color: red;\n",
       "}\n",
       "</style>\n",
       "<table id=\"T_d9837_\">\n",
       "  <thead>\n",
       "    <tr>\n",
       "      <th class=\"blank level0\" >&nbsp;</th>\n",
       "      <th class=\"col_heading level0 col0\" >col1</th>\n",
       "      <th class=\"col_heading level0 col1\" >col2</th>\n",
       "      <th class=\"col_heading level0 col2\" >col3</th>\n",
       "    </tr>\n",
       "  </thead>\n",
       "  <tbody>\n",
       "    <tr>\n",
       "      <th id=\"T_d9837_level0_row0\" class=\"row_heading level0 row0\" >0</th>\n",
       "      <td id=\"T_d9837_row0_col0\" class=\"data row0 col0\" >1.00</td>\n",
       "      <td id=\"T_d9837_row0_col1\" class=\"data row0 col1\" >1</td>\n",
       "      <td id=\"T_d9837_row0_col2\" class=\"data row0 col2\" >foo</td>\n",
       "    </tr>\n",
       "    <tr>\n",
       "      <th id=\"T_d9837_level0_row1\" class=\"row_heading level0 row1\" >1</th>\n",
       "      <td id=\"T_d9837_row1_col0\" class=\"data row1 col0\" >nan</td>\n",
       "      <td id=\"T_d9837_row1_col1\" class=\"data row1 col1\" >2</td>\n",
       "      <td id=\"T_d9837_row1_col2\" class=\"data row1 col2\" >None</td>\n",
       "    </tr>\n",
       "    <tr>\n",
       "      <th id=\"T_d9837_level0_row2\" class=\"row_heading level0 row2\" >2</th>\n",
       "      <td id=\"T_d9837_row2_col0\" class=\"data row2 col0\" >3.00</td>\n",
       "      <td id=\"T_d9837_row2_col1\" class=\"data row2 col1\" >3</td>\n",
       "      <td id=\"T_d9837_row2_col2\" class=\"data row2 col2\" >baz</td>\n",
       "    </tr>\n",
       "    <tr>\n",
       "      <th id=\"T_d9837_level0_row3\" class=\"row_heading level0 row3\" >3</th>\n",
       "      <td id=\"T_d9837_row3_col0\" class=\"data row3 col0\" >nan</td>\n",
       "      <td id=\"T_d9837_row3_col1\" class=\"data row3 col1\" >4</td>\n",
       "      <td id=\"T_d9837_row3_col2\" class=\"data row3 col2\" >quux</td>\n",
       "    </tr>\n",
       "    <tr>\n",
       "      <th id=\"T_d9837_level0_row4\" class=\"row_heading level0 row4\" >4</th>\n",
       "      <td id=\"T_d9837_row4_col0\" class=\"data row4 col0\" >nan</td>\n",
       "      <td id=\"T_d9837_row4_col1\" class=\"data row4 col1\" >5</td>\n",
       "      <td id=\"T_d9837_row4_col2\" class=\"data row4 col2\" >bax</td>\n",
       "    </tr>\n",
       "  </tbody>\n",
       "</table>\n"
      ],
      "text/plain": [
       "<pandas.io.formats.style.Styler at 0x7f5dfda35b50>"
      ]
     },
     "execution_count": 128,
     "metadata": {},
     "output_type": "execute_result"
    }
   ],
   "source": [
    "import pandas as pd\n",
    "import numpy as np\n",
    "\n",
    "df = pd.DataFrame({\n",
    "    'col1': [1.0,   np.nan, 3.0,   np.nan, None ],\n",
    "    'col2': [1,     2,      3,     4,      5    ],\n",
    "    'col3': ['foo', None,  'baz', 'quux', 'bax']\n",
    "})\n",
    "\n",
    "df.style.applymap(red_if_na)"
   ]
  },
  {
   "cell_type": "code",
   "execution_count": 129,
   "id": "06e1227d",
   "metadata": {},
   "outputs": [
    {
     "data": {
      "text/html": [
       "<style type=\"text/css\">\n",
       "#T_dd685_row3_col0, #T_dd685_row4_col0 {\n",
       "  color: red;\n",
       "}\n",
       "</style>\n",
       "<table id=\"T_dd685_\">\n",
       "  <thead>\n",
       "    <tr>\n",
       "      <th class=\"blank level0\" >&nbsp;</th>\n",
       "      <th class=\"col_heading level0 col0\" >col1</th>\n",
       "      <th class=\"col_heading level0 col1\" >col2</th>\n",
       "      <th class=\"col_heading level0 col2\" >col3</th>\n",
       "    </tr>\n",
       "  </thead>\n",
       "  <tbody>\n",
       "    <tr>\n",
       "      <th id=\"T_dd685_level0_row0\" class=\"row_heading level0 row0\" >0</th>\n",
       "      <td id=\"T_dd685_row0_col0\" class=\"data row0 col0\" >1.00</td>\n",
       "      <td id=\"T_dd685_row0_col1\" class=\"data row0 col1\" >1</td>\n",
       "      <td id=\"T_dd685_row0_col2\" class=\"data row0 col2\" >foo</td>\n",
       "    </tr>\n",
       "    <tr>\n",
       "      <th id=\"T_dd685_level0_row1\" class=\"row_heading level0 row1\" >1</th>\n",
       "      <td id=\"T_dd685_row1_col0\" class=\"data row1 col0\" >--</td>\n",
       "      <td id=\"T_dd685_row1_col1\" class=\"data row1 col1\" >2</td>\n",
       "      <td id=\"T_dd685_row1_col2\" class=\"data row1 col2\" >--</td>\n",
       "    </tr>\n",
       "    <tr>\n",
       "      <th id=\"T_dd685_level0_row2\" class=\"row_heading level0 row2\" >2</th>\n",
       "      <td id=\"T_dd685_row2_col0\" class=\"data row2 col0\" >3.00</td>\n",
       "      <td id=\"T_dd685_row2_col1\" class=\"data row2 col1\" >3</td>\n",
       "      <td id=\"T_dd685_row2_col2\" class=\"data row2 col2\" >baz</td>\n",
       "    </tr>\n",
       "    <tr>\n",
       "      <th id=\"T_dd685_level0_row3\" class=\"row_heading level0 row3\" >3</th>\n",
       "      <td id=\"T_dd685_row3_col0\" class=\"data row3 col0\" >nan</td>\n",
       "      <td id=\"T_dd685_row3_col1\" class=\"data row3 col1\" >4</td>\n",
       "      <td id=\"T_dd685_row3_col2\" class=\"data row3 col2\" >quux</td>\n",
       "    </tr>\n",
       "    <tr>\n",
       "      <th id=\"T_dd685_level0_row4\" class=\"row_heading level0 row4\" >4</th>\n",
       "      <td id=\"T_dd685_row4_col0\" class=\"data row4 col0\" >nan</td>\n",
       "      <td id=\"T_dd685_row4_col1\" class=\"data row4 col1\" >5</td>\n",
       "      <td id=\"T_dd685_row4_col2\" class=\"data row4 col2\" >bax</td>\n",
       "    </tr>\n",
       "  </tbody>\n",
       "</table>\n"
      ],
      "text/plain": [
       "<pandas.io.formats.style.Styler at 0x7f5dfd1c5af0>"
      ]
     },
     "execution_count": 129,
     "metadata": {},
     "output_type": "execute_result"
    }
   ],
   "source": [
    "index_to_fill = 1\n",
    "\n",
    "df.loc[index_to_fill,df.columns] = df.loc[index_to_fill,:].map(lambda value: '--' if pd.isna(value) else value)\n",
    "\n",
    "df.style.applymap(red_if_na)"
   ]
  },
  {
   "cell_type": "code",
   "execution_count": 102,
   "id": "8728d39b",
   "metadata": {},
   "outputs": [
    {
     "data": {
      "text/plain": [
       "Int64Index([0, 1, 2, 3, 4], dtype='int64')"
      ]
     },
     "execution_count": 102,
     "metadata": {},
     "output_type": "execute_result"
    }
   ],
   "source": [
    "df.index"
   ]
  },
  {
   "cell_type": "markdown",
   "id": "52cf7d4a",
   "metadata": {},
   "source": [
    "## Multiple columns"
   ]
  },
  {
   "cell_type": "code",
   "execution_count": 62,
   "id": "b55af1c4",
   "metadata": {},
   "outputs": [
    {
     "data": {
      "text/html": [
       "<style type=\"text/css\">\n",
       "#T_b6ad9_row1_col2, #T_b6ad9_row1_col3, #T_b6ad9_row2_col3, #T_b6ad9_row3_col0, #T_b6ad9_row3_col3, #T_b6ad9_row4_col0 {\n",
       "  color: red;\n",
       "}\n",
       "</style>\n",
       "<table id=\"T_b6ad9_\">\n",
       "  <thead>\n",
       "    <tr>\n",
       "      <th class=\"blank level0\" >&nbsp;</th>\n",
       "      <th class=\"col_heading level0 col0\" >col1</th>\n",
       "      <th class=\"col_heading level0 col1\" >col2</th>\n",
       "      <th class=\"col_heading level0 col2\" >col3</th>\n",
       "      <th class=\"col_heading level0 col3\" >col4</th>\n",
       "    </tr>\n",
       "  </thead>\n",
       "  <tbody>\n",
       "    <tr>\n",
       "      <th id=\"T_b6ad9_level0_row0\" class=\"row_heading level0 row0\" >0</th>\n",
       "      <td id=\"T_b6ad9_row0_col0\" class=\"data row0 col0\" >1.00</td>\n",
       "      <td id=\"T_b6ad9_row0_col1\" class=\"data row0 col1\" >1</td>\n",
       "      <td id=\"T_b6ad9_row0_col2\" class=\"data row0 col2\" >foo</td>\n",
       "      <td id=\"T_b6ad9_row0_col3\" class=\"data row0 col3\" >xxx</td>\n",
       "    </tr>\n",
       "    <tr>\n",
       "      <th id=\"T_b6ad9_level0_row1\" class=\"row_heading level0 row1\" >1</th>\n",
       "      <td id=\"T_b6ad9_row1_col0\" class=\"data row1 col0\" >2.00</td>\n",
       "      <td id=\"T_b6ad9_row1_col1\" class=\"data row1 col1\" >2</td>\n",
       "      <td id=\"T_b6ad9_row1_col2\" class=\"data row1 col2\" >None</td>\n",
       "      <td id=\"T_b6ad9_row1_col3\" class=\"data row1 col3\" >None</td>\n",
       "    </tr>\n",
       "    <tr>\n",
       "      <th id=\"T_b6ad9_level0_row2\" class=\"row_heading level0 row2\" >2</th>\n",
       "      <td id=\"T_b6ad9_row2_col0\" class=\"data row2 col0\" >3.00</td>\n",
       "      <td id=\"T_b6ad9_row2_col1\" class=\"data row2 col1\" >3</td>\n",
       "      <td id=\"T_b6ad9_row2_col2\" class=\"data row2 col2\" >baz</td>\n",
       "      <td id=\"T_b6ad9_row2_col3\" class=\"data row2 col3\" >None</td>\n",
       "    </tr>\n",
       "    <tr>\n",
       "      <th id=\"T_b6ad9_level0_row3\" class=\"row_heading level0 row3\" >3</th>\n",
       "      <td id=\"T_b6ad9_row3_col0\" class=\"data row3 col0\" >nan</td>\n",
       "      <td id=\"T_b6ad9_row3_col1\" class=\"data row3 col1\" >4</td>\n",
       "      <td id=\"T_b6ad9_row3_col2\" class=\"data row3 col2\" >quux</td>\n",
       "      <td id=\"T_b6ad9_row3_col3\" class=\"data row3 col3\" >None</td>\n",
       "    </tr>\n",
       "    <tr>\n",
       "      <th id=\"T_b6ad9_level0_row4\" class=\"row_heading level0 row4\" >4</th>\n",
       "      <td id=\"T_b6ad9_row4_col0\" class=\"data row4 col0\" >nan</td>\n",
       "      <td id=\"T_b6ad9_row4_col1\" class=\"data row4 col1\" >5</td>\n",
       "      <td id=\"T_b6ad9_row4_col2\" class=\"data row4 col2\" >bax</td>\n",
       "      <td id=\"T_b6ad9_row4_col3\" class=\"data row4 col3\" >xxx</td>\n",
       "    </tr>\n",
       "  </tbody>\n",
       "</table>\n"
      ],
      "text/plain": [
       "<pandas.io.formats.style.Styler at 0x7f5dfe6a6250>"
      ]
     },
     "execution_count": 62,
     "metadata": {},
     "output_type": "execute_result"
    }
   ],
   "source": [
    "import pandas as pd\n",
    "import numpy as np\n",
    "\n",
    "df = pd.DataFrame({\n",
    "    'col1': [1.0,   2.0,  3.0,   np.nan, None ],\n",
    "    'col2': [1,     2,    3,     4,      5    ],\n",
    "    'col3': ['foo', None, 'baz', 'quux', 'bax'],\n",
    "    'col4': ['xxx', None, None,  None,   'xxx'],\n",
    "})\n",
    "\n",
    "df.style.applymap(red_if_na)"
   ]
  },
  {
   "cell_type": "code",
   "execution_count": 64,
   "id": "86f935dc",
   "metadata": {},
   "outputs": [
    {
     "data": {
      "text/html": [
       "<style type=\"text/css\">\n",
       "#T_70b50_row1_col3, #T_70b50_row2_col3, #T_70b50_row3_col3 {\n",
       "  color: red;\n",
       "}\n",
       "</style>\n",
       "<table id=\"T_70b50_\">\n",
       "  <thead>\n",
       "    <tr>\n",
       "      <th class=\"blank level0\" >&nbsp;</th>\n",
       "      <th class=\"col_heading level0 col0\" >col1</th>\n",
       "      <th class=\"col_heading level0 col1\" >col2</th>\n",
       "      <th class=\"col_heading level0 col2\" >col3</th>\n",
       "      <th class=\"col_heading level0 col3\" >col4</th>\n",
       "    </tr>\n",
       "  </thead>\n",
       "  <tbody>\n",
       "    <tr>\n",
       "      <th id=\"T_70b50_level0_row0\" class=\"row_heading level0 row0\" >0</th>\n",
       "      <td id=\"T_70b50_row0_col0\" class=\"data row0 col0\" >1.00</td>\n",
       "      <td id=\"T_70b50_row0_col1\" class=\"data row0 col1\" >1</td>\n",
       "      <td id=\"T_70b50_row0_col2\" class=\"data row0 col2\" >foo</td>\n",
       "      <td id=\"T_70b50_row0_col3\" class=\"data row0 col3\" >xxx</td>\n",
       "    </tr>\n",
       "    <tr>\n",
       "      <th id=\"T_70b50_level0_row1\" class=\"row_heading level0 row1\" >1</th>\n",
       "      <td id=\"T_70b50_row1_col0\" class=\"data row1 col0\" >2.00</td>\n",
       "      <td id=\"T_70b50_row1_col1\" class=\"data row1 col1\" >2</td>\n",
       "      <td id=\"T_70b50_row1_col2\" class=\"data row1 col2\" >--</td>\n",
       "      <td id=\"T_70b50_row1_col3\" class=\"data row1 col3\" >None</td>\n",
       "    </tr>\n",
       "    <tr>\n",
       "      <th id=\"T_70b50_level0_row2\" class=\"row_heading level0 row2\" >2</th>\n",
       "      <td id=\"T_70b50_row2_col0\" class=\"data row2 col0\" >3.00</td>\n",
       "      <td id=\"T_70b50_row2_col1\" class=\"data row2 col1\" >3</td>\n",
       "      <td id=\"T_70b50_row2_col2\" class=\"data row2 col2\" >baz</td>\n",
       "      <td id=\"T_70b50_row2_col3\" class=\"data row2 col3\" >None</td>\n",
       "    </tr>\n",
       "    <tr>\n",
       "      <th id=\"T_70b50_level0_row3\" class=\"row_heading level0 row3\" >3</th>\n",
       "      <td id=\"T_70b50_row3_col0\" class=\"data row3 col0\" >0.00</td>\n",
       "      <td id=\"T_70b50_row3_col1\" class=\"data row3 col1\" >4</td>\n",
       "      <td id=\"T_70b50_row3_col2\" class=\"data row3 col2\" >quux</td>\n",
       "      <td id=\"T_70b50_row3_col3\" class=\"data row3 col3\" >None</td>\n",
       "    </tr>\n",
       "    <tr>\n",
       "      <th id=\"T_70b50_level0_row4\" class=\"row_heading level0 row4\" >4</th>\n",
       "      <td id=\"T_70b50_row4_col0\" class=\"data row4 col0\" >0.00</td>\n",
       "      <td id=\"T_70b50_row4_col1\" class=\"data row4 col1\" >5</td>\n",
       "      <td id=\"T_70b50_row4_col2\" class=\"data row4 col2\" >bax</td>\n",
       "      <td id=\"T_70b50_row4_col3\" class=\"data row4 col3\" >xxx</td>\n",
       "    </tr>\n",
       "  </tbody>\n",
       "</table>\n"
      ],
      "text/plain": [
       "<pandas.io.formats.style.Styler at 0x7f5dfe695fa0>"
      ]
     },
     "execution_count": 64,
     "metadata": {},
     "output_type": "execute_result"
    }
   ],
   "source": [
    "df.fillna({\"col1\": 0, \"col3\": \"--\"}).style.applymap(is_na)"
   ]
  },
  {
   "cell_type": "markdown",
   "id": "2b9695a6",
   "metadata": {},
   "source": [
    "## Fill inplace"
   ]
  },
  {
   "cell_type": "code",
   "execution_count": 65,
   "id": "bbb3dffb",
   "metadata": {},
   "outputs": [
    {
     "data": {
      "text/html": [
       "<style type=\"text/css\">\n",
       "#T_463a4_row1_col2, #T_463a4_row3_col0, #T_463a4_row4_col0 {\n",
       "  color: red;\n",
       "}\n",
       "</style>\n",
       "<table id=\"T_463a4_\">\n",
       "  <thead>\n",
       "    <tr>\n",
       "      <th class=\"blank level0\" >&nbsp;</th>\n",
       "      <th class=\"col_heading level0 col0\" >col1</th>\n",
       "      <th class=\"col_heading level0 col1\" >col2</th>\n",
       "      <th class=\"col_heading level0 col2\" >col3</th>\n",
       "    </tr>\n",
       "  </thead>\n",
       "  <tbody>\n",
       "    <tr>\n",
       "      <th id=\"T_463a4_level0_row0\" class=\"row_heading level0 row0\" >0</th>\n",
       "      <td id=\"T_463a4_row0_col0\" class=\"data row0 col0\" >1.00</td>\n",
       "      <td id=\"T_463a4_row0_col1\" class=\"data row0 col1\" >1</td>\n",
       "      <td id=\"T_463a4_row0_col2\" class=\"data row0 col2\" >foo</td>\n",
       "    </tr>\n",
       "    <tr>\n",
       "      <th id=\"T_463a4_level0_row1\" class=\"row_heading level0 row1\" >1</th>\n",
       "      <td id=\"T_463a4_row1_col0\" class=\"data row1 col0\" >2.00</td>\n",
       "      <td id=\"T_463a4_row1_col1\" class=\"data row1 col1\" >2</td>\n",
       "      <td id=\"T_463a4_row1_col2\" class=\"data row1 col2\" >None</td>\n",
       "    </tr>\n",
       "    <tr>\n",
       "      <th id=\"T_463a4_level0_row2\" class=\"row_heading level0 row2\" >2</th>\n",
       "      <td id=\"T_463a4_row2_col0\" class=\"data row2 col0\" >3.00</td>\n",
       "      <td id=\"T_463a4_row2_col1\" class=\"data row2 col1\" >3</td>\n",
       "      <td id=\"T_463a4_row2_col2\" class=\"data row2 col2\" >baz</td>\n",
       "    </tr>\n",
       "    <tr>\n",
       "      <th id=\"T_463a4_level0_row3\" class=\"row_heading level0 row3\" >3</th>\n",
       "      <td id=\"T_463a4_row3_col0\" class=\"data row3 col0\" >nan</td>\n",
       "      <td id=\"T_463a4_row3_col1\" class=\"data row3 col1\" >4</td>\n",
       "      <td id=\"T_463a4_row3_col2\" class=\"data row3 col2\" >quux</td>\n",
       "    </tr>\n",
       "    <tr>\n",
       "      <th id=\"T_463a4_level0_row4\" class=\"row_heading level0 row4\" >4</th>\n",
       "      <td id=\"T_463a4_row4_col0\" class=\"data row4 col0\" >nan</td>\n",
       "      <td id=\"T_463a4_row4_col1\" class=\"data row4 col1\" >5</td>\n",
       "      <td id=\"T_463a4_row4_col2\" class=\"data row4 col2\" >bax</td>\n",
       "    </tr>\n",
       "  </tbody>\n",
       "</table>\n"
      ],
      "text/plain": [
       "<pandas.io.formats.style.Styler at 0x7f5dfe8bae80>"
      ]
     },
     "execution_count": 65,
     "metadata": {},
     "output_type": "execute_result"
    }
   ],
   "source": [
    "import pandas as pd\n",
    "import numpy as np\n",
    "\n",
    "df = pd.DataFrame({\n",
    "    'col1': [1.0,   2.0,  3.0,   np.nan, None ],\n",
    "    'col2': [1,     2,    3,     4,      5    ],\n",
    "    'col3': ['foo', None, 'baz', 'quux', 'bax']\n",
    "})\n",
    "\n",
    "df.style.applymap(red_if_na)"
   ]
  },
  {
   "cell_type": "code",
   "execution_count": 66,
   "id": "219f8133",
   "metadata": {},
   "outputs": [],
   "source": [
    "df.fillna(0,inplace=True)"
   ]
  },
  {
   "cell_type": "markdown",
   "id": "e97100e1",
   "metadata": {},
   "source": [
    "## Fill with another column"
   ]
  },
  {
   "cell_type": "code",
   "execution_count": 74,
   "id": "e090e57a",
   "metadata": {},
   "outputs": [
    {
     "data": {
      "text/html": [
       "<style type=\"text/css\">\n",
       "#T_21b54_row1_col2, #T_21b54_row3_col0, #T_21b54_row4_col0 {\n",
       "  color: red;\n",
       "}\n",
       "</style>\n",
       "<table id=\"T_21b54_\">\n",
       "  <thead>\n",
       "    <tr>\n",
       "      <th class=\"blank level0\" >&nbsp;</th>\n",
       "      <th class=\"col_heading level0 col0\" >col1</th>\n",
       "      <th class=\"col_heading level0 col1\" >col2</th>\n",
       "      <th class=\"col_heading level0 col2\" >col3</th>\n",
       "    </tr>\n",
       "  </thead>\n",
       "  <tbody>\n",
       "    <tr>\n",
       "      <th id=\"T_21b54_level0_row0\" class=\"row_heading level0 row0\" >0</th>\n",
       "      <td id=\"T_21b54_row0_col0\" class=\"data row0 col0\" >1.00</td>\n",
       "      <td id=\"T_21b54_row0_col1\" class=\"data row0 col1\" >1</td>\n",
       "      <td id=\"T_21b54_row0_col2\" class=\"data row0 col2\" >foo</td>\n",
       "    </tr>\n",
       "    <tr>\n",
       "      <th id=\"T_21b54_level0_row1\" class=\"row_heading level0 row1\" >1</th>\n",
       "      <td id=\"T_21b54_row1_col0\" class=\"data row1 col0\" >2.00</td>\n",
       "      <td id=\"T_21b54_row1_col1\" class=\"data row1 col1\" >2</td>\n",
       "      <td id=\"T_21b54_row1_col2\" class=\"data row1 col2\" >None</td>\n",
       "    </tr>\n",
       "    <tr>\n",
       "      <th id=\"T_21b54_level0_row2\" class=\"row_heading level0 row2\" >2</th>\n",
       "      <td id=\"T_21b54_row2_col0\" class=\"data row2 col0\" >3.00</td>\n",
       "      <td id=\"T_21b54_row2_col1\" class=\"data row2 col1\" >3</td>\n",
       "      <td id=\"T_21b54_row2_col2\" class=\"data row2 col2\" >baz</td>\n",
       "    </tr>\n",
       "    <tr>\n",
       "      <th id=\"T_21b54_level0_row3\" class=\"row_heading level0 row3\" >3</th>\n",
       "      <td id=\"T_21b54_row3_col0\" class=\"data row3 col0\" >nan</td>\n",
       "      <td id=\"T_21b54_row3_col1\" class=\"data row3 col1\" >4</td>\n",
       "      <td id=\"T_21b54_row3_col2\" class=\"data row3 col2\" >quux</td>\n",
       "    </tr>\n",
       "    <tr>\n",
       "      <th id=\"T_21b54_level0_row4\" class=\"row_heading level0 row4\" >4</th>\n",
       "      <td id=\"T_21b54_row4_col0\" class=\"data row4 col0\" >nan</td>\n",
       "      <td id=\"T_21b54_row4_col1\" class=\"data row4 col1\" >5</td>\n",
       "      <td id=\"T_21b54_row4_col2\" class=\"data row4 col2\" >bax</td>\n",
       "    </tr>\n",
       "  </tbody>\n",
       "</table>\n"
      ],
      "text/plain": [
       "<pandas.io.formats.style.Styler at 0x7f5dfe8ba820>"
      ]
     },
     "execution_count": 74,
     "metadata": {},
     "output_type": "execute_result"
    }
   ],
   "source": [
    "import pandas as pd\n",
    "import numpy as np\n",
    "\n",
    "df = pd.DataFrame({\n",
    "    'col1': [1.0,   2.0,  3.0,   np.nan, None ],\n",
    "    'col2': [1,     2,    3,     4,      5    ],\n",
    "    'col3': ['foo', None, 'baz', 'quux', 'bax'],\n",
    "})\n",
    "\n",
    "df.style.applymap(red_if_na)"
   ]
  },
  {
   "cell_type": "code",
   "execution_count": 75,
   "id": "8ed0f8c2",
   "metadata": {},
   "outputs": [
    {
     "data": {
      "text/html": [
       "<style type=\"text/css\">\n",
       "#T_1cd43_row1_col2 {\n",
       "  color: red;\n",
       "}\n",
       "</style>\n",
       "<table id=\"T_1cd43_\">\n",
       "  <thead>\n",
       "    <tr>\n",
       "      <th class=\"blank level0\" >&nbsp;</th>\n",
       "      <th class=\"col_heading level0 col0\" >col1</th>\n",
       "      <th class=\"col_heading level0 col1\" >col2</th>\n",
       "      <th class=\"col_heading level0 col2\" >col3</th>\n",
       "    </tr>\n",
       "  </thead>\n",
       "  <tbody>\n",
       "    <tr>\n",
       "      <th id=\"T_1cd43_level0_row0\" class=\"row_heading level0 row0\" >0</th>\n",
       "      <td id=\"T_1cd43_row0_col0\" class=\"data row0 col0\" >1.00</td>\n",
       "      <td id=\"T_1cd43_row0_col1\" class=\"data row0 col1\" >1</td>\n",
       "      <td id=\"T_1cd43_row0_col2\" class=\"data row0 col2\" >foo</td>\n",
       "    </tr>\n",
       "    <tr>\n",
       "      <th id=\"T_1cd43_level0_row1\" class=\"row_heading level0 row1\" >1</th>\n",
       "      <td id=\"T_1cd43_row1_col0\" class=\"data row1 col0\" >2.00</td>\n",
       "      <td id=\"T_1cd43_row1_col1\" class=\"data row1 col1\" >2</td>\n",
       "      <td id=\"T_1cd43_row1_col2\" class=\"data row1 col2\" >None</td>\n",
       "    </tr>\n",
       "    <tr>\n",
       "      <th id=\"T_1cd43_level0_row2\" class=\"row_heading level0 row2\" >2</th>\n",
       "      <td id=\"T_1cd43_row2_col0\" class=\"data row2 col0\" >3.00</td>\n",
       "      <td id=\"T_1cd43_row2_col1\" class=\"data row2 col1\" >3</td>\n",
       "      <td id=\"T_1cd43_row2_col2\" class=\"data row2 col2\" >baz</td>\n",
       "    </tr>\n",
       "    <tr>\n",
       "      <th id=\"T_1cd43_level0_row3\" class=\"row_heading level0 row3\" >3</th>\n",
       "      <td id=\"T_1cd43_row3_col0\" class=\"data row3 col0\" >4.00</td>\n",
       "      <td id=\"T_1cd43_row3_col1\" class=\"data row3 col1\" >4</td>\n",
       "      <td id=\"T_1cd43_row3_col2\" class=\"data row3 col2\" >quux</td>\n",
       "    </tr>\n",
       "    <tr>\n",
       "      <th id=\"T_1cd43_level0_row4\" class=\"row_heading level0 row4\" >4</th>\n",
       "      <td id=\"T_1cd43_row4_col0\" class=\"data row4 col0\" >5.00</td>\n",
       "      <td id=\"T_1cd43_row4_col1\" class=\"data row4 col1\" >5</td>\n",
       "      <td id=\"T_1cd43_row4_col2\" class=\"data row4 col2\" >bax</td>\n",
       "    </tr>\n",
       "  </tbody>\n",
       "</table>\n"
      ],
      "text/plain": [
       "<pandas.io.formats.style.Styler at 0x7f5dfe691040>"
      ]
     },
     "execution_count": 75,
     "metadata": {},
     "output_type": "execute_result"
    }
   ],
   "source": [
    "df.fillna({'col1':df['col2']}).style.applymap(red_if_na)"
   ]
  },
  {
   "cell_type": "markdown",
   "id": "e4e629bf",
   "metadata": {},
   "source": [
    "## Fill with another dataframe"
   ]
  },
  {
   "cell_type": "code",
   "execution_count": 138,
   "id": "0e9e9ff2",
   "metadata": {},
   "outputs": [
    {
     "data": {
      "text/html": [
       "<style type=\"text/css\">\n",
       "#T_9db95_row1_col1, #T_9db95_row3_col0, #T_9db95_row4_col0 {\n",
       "  color: red;\n",
       "}\n",
       "</style>\n",
       "<table id=\"T_9db95_\">\n",
       "  <thead>\n",
       "    <tr>\n",
       "      <th class=\"blank level0\" >&nbsp;</th>\n",
       "      <th class=\"col_heading level0 col0\" >col1</th>\n",
       "      <th class=\"col_heading level0 col1\" >col2</th>\n",
       "    </tr>\n",
       "  </thead>\n",
       "  <tbody>\n",
       "    <tr>\n",
       "      <th id=\"T_9db95_level0_row0\" class=\"row_heading level0 row0\" >0</th>\n",
       "      <td id=\"T_9db95_row0_col0\" class=\"data row0 col0\" >1.00</td>\n",
       "      <td id=\"T_9db95_row0_col1\" class=\"data row0 col1\" >foo</td>\n",
       "    </tr>\n",
       "    <tr>\n",
       "      <th id=\"T_9db95_level0_row1\" class=\"row_heading level0 row1\" >1</th>\n",
       "      <td id=\"T_9db95_row1_col0\" class=\"data row1 col0\" >2.00</td>\n",
       "      <td id=\"T_9db95_row1_col1\" class=\"data row1 col1\" >None</td>\n",
       "    </tr>\n",
       "    <tr>\n",
       "      <th id=\"T_9db95_level0_row2\" class=\"row_heading level0 row2\" >2</th>\n",
       "      <td id=\"T_9db95_row2_col0\" class=\"data row2 col0\" >3.00</td>\n",
       "      <td id=\"T_9db95_row2_col1\" class=\"data row2 col1\" >baz</td>\n",
       "    </tr>\n",
       "    <tr>\n",
       "      <th id=\"T_9db95_level0_row3\" class=\"row_heading level0 row3\" >3</th>\n",
       "      <td id=\"T_9db95_row3_col0\" class=\"data row3 col0\" >nan</td>\n",
       "      <td id=\"T_9db95_row3_col1\" class=\"data row3 col1\" >quux</td>\n",
       "    </tr>\n",
       "    <tr>\n",
       "      <th id=\"T_9db95_level0_row4\" class=\"row_heading level0 row4\" >4</th>\n",
       "      <td id=\"T_9db95_row4_col0\" class=\"data row4 col0\" >nan</td>\n",
       "      <td id=\"T_9db95_row4_col1\" class=\"data row4 col1\" >bax</td>\n",
       "    </tr>\n",
       "  </tbody>\n",
       "</table>\n"
      ],
      "text/plain": [
       "<pandas.io.formats.style.Styler at 0x7f5dfbeb5550>"
      ]
     },
     "execution_count": 138,
     "metadata": {},
     "output_type": "execute_result"
    }
   ],
   "source": [
    "import pandas as pd\n",
    "import numpy as np\n",
    "\n",
    "df = pd.DataFrame({\n",
    "    'col1': [1.0,   2.0,  3.0,   np.nan, None ],\n",
    "    'col2': ['foo', None, 'baz', 'quux', 'bax'],\n",
    "})\n",
    "\n",
    "replacement_df = pd.DataFrame({\n",
    "    'col1': [0.0,  0.0,  0.0,  0.0,  0.0 ],\n",
    "    'col2': ['--', '--', '--', '--', '--'],\n",
    "})\n",
    "\n",
    "df.style.applymap(red_if_na)"
   ]
  },
  {
   "cell_type": "code",
   "execution_count": 139,
   "id": "bb251b16",
   "metadata": {},
   "outputs": [
    {
     "data": {
      "text/html": [
       "<div>\n",
       "<style scoped>\n",
       "    .dataframe tbody tr th:only-of-type {\n",
       "        vertical-align: middle;\n",
       "    }\n",
       "\n",
       "    .dataframe tbody tr th {\n",
       "        vertical-align: top;\n",
       "    }\n",
       "\n",
       "    .dataframe thead th {\n",
       "        text-align: right;\n",
       "    }\n",
       "</style>\n",
       "<table border=\"1\" class=\"dataframe\">\n",
       "  <thead>\n",
       "    <tr style=\"text-align: right;\">\n",
       "      <th></th>\n",
       "      <th>col1</th>\n",
       "      <th>col2</th>\n",
       "    </tr>\n",
       "  </thead>\n",
       "  <tbody>\n",
       "    <tr>\n",
       "      <th>0</th>\n",
       "      <td>0.0</td>\n",
       "      <td>--</td>\n",
       "    </tr>\n",
       "    <tr>\n",
       "      <th>1</th>\n",
       "      <td>0.0</td>\n",
       "      <td>--</td>\n",
       "    </tr>\n",
       "    <tr>\n",
       "      <th>2</th>\n",
       "      <td>0.0</td>\n",
       "      <td>--</td>\n",
       "    </tr>\n",
       "    <tr>\n",
       "      <th>3</th>\n",
       "      <td>0.0</td>\n",
       "      <td>--</td>\n",
       "    </tr>\n",
       "    <tr>\n",
       "      <th>4</th>\n",
       "      <td>0.0</td>\n",
       "      <td>--</td>\n",
       "    </tr>\n",
       "  </tbody>\n",
       "</table>\n",
       "</div>"
      ],
      "text/plain": [
       "   col1 col2\n",
       "0   0.0   --\n",
       "1   0.0   --\n",
       "2   0.0   --\n",
       "3   0.0   --\n",
       "4   0.0   --"
      ]
     },
     "execution_count": 139,
     "metadata": {},
     "output_type": "execute_result"
    }
   ],
   "source": [
    "replacement_df"
   ]
  },
  {
   "cell_type": "code",
   "execution_count": 77,
   "id": "9e13bfae",
   "metadata": {},
   "outputs": [
    {
     "data": {
      "text/html": [
       "<style type=\"text/css\">\n",
       "</style>\n",
       "<table id=\"T_a3b7e_\">\n",
       "  <thead>\n",
       "    <tr>\n",
       "      <th class=\"blank level0\" >&nbsp;</th>\n",
       "      <th class=\"col_heading level0 col0\" >col1</th>\n",
       "      <th class=\"col_heading level0 col1\" >col2</th>\n",
       "    </tr>\n",
       "  </thead>\n",
       "  <tbody>\n",
       "    <tr>\n",
       "      <th id=\"T_a3b7e_level0_row0\" class=\"row_heading level0 row0\" >0</th>\n",
       "      <td id=\"T_a3b7e_row0_col0\" class=\"data row0 col0\" >1.00</td>\n",
       "      <td id=\"T_a3b7e_row0_col1\" class=\"data row0 col1\" >foo</td>\n",
       "    </tr>\n",
       "    <tr>\n",
       "      <th id=\"T_a3b7e_level0_row1\" class=\"row_heading level0 row1\" >1</th>\n",
       "      <td id=\"T_a3b7e_row1_col0\" class=\"data row1 col0\" >2.00</td>\n",
       "      <td id=\"T_a3b7e_row1_col1\" class=\"data row1 col1\" >--</td>\n",
       "    </tr>\n",
       "    <tr>\n",
       "      <th id=\"T_a3b7e_level0_row2\" class=\"row_heading level0 row2\" >2</th>\n",
       "      <td id=\"T_a3b7e_row2_col0\" class=\"data row2 col0\" >3.00</td>\n",
       "      <td id=\"T_a3b7e_row2_col1\" class=\"data row2 col1\" >baz</td>\n",
       "    </tr>\n",
       "    <tr>\n",
       "      <th id=\"T_a3b7e_level0_row3\" class=\"row_heading level0 row3\" >3</th>\n",
       "      <td id=\"T_a3b7e_row3_col0\" class=\"data row3 col0\" >0.00</td>\n",
       "      <td id=\"T_a3b7e_row3_col1\" class=\"data row3 col1\" >quux</td>\n",
       "    </tr>\n",
       "    <tr>\n",
       "      <th id=\"T_a3b7e_level0_row4\" class=\"row_heading level0 row4\" >4</th>\n",
       "      <td id=\"T_a3b7e_row4_col0\" class=\"data row4 col0\" >0.00</td>\n",
       "      <td id=\"T_a3b7e_row4_col1\" class=\"data row4 col1\" >bax</td>\n",
       "    </tr>\n",
       "  </tbody>\n",
       "</table>\n"
      ],
      "text/plain": [
       "<pandas.io.formats.style.Styler at 0x7f5dfcec3e80>"
      ]
     },
     "execution_count": 77,
     "metadata": {},
     "output_type": "execute_result"
    }
   ],
   "source": [
    "df.fillna(replacement_df).style.applymap(red_if_na)"
   ]
  },
  {
   "cell_type": "markdown",
   "id": "f36fb5e2",
   "metadata": {},
   "source": [
    "## Fill values matching condtion\n"
   ]
  },
  {
   "cell_type": "code",
   "execution_count": 167,
   "id": "b2fbf17d",
   "metadata": {},
   "outputs": [
    {
     "data": {
      "text/html": [
       "<div>\n",
       "<style scoped>\n",
       "    .dataframe tbody tr th:only-of-type {\n",
       "        vertical-align: middle;\n",
       "    }\n",
       "\n",
       "    .dataframe tbody tr th {\n",
       "        vertical-align: top;\n",
       "    }\n",
       "\n",
       "    .dataframe thead th {\n",
       "        text-align: right;\n",
       "    }\n",
       "</style>\n",
       "<table border=\"1\" class=\"dataframe\">\n",
       "  <thead>\n",
       "    <tr style=\"text-align: right;\">\n",
       "      <th></th>\n",
       "      <th>col1</th>\n",
       "      <th>col2</th>\n",
       "    </tr>\n",
       "  </thead>\n",
       "  <tbody>\n",
       "    <tr>\n",
       "      <th>0</th>\n",
       "      <td>1</td>\n",
       "      <td>11</td>\n",
       "    </tr>\n",
       "    <tr>\n",
       "      <th>1</th>\n",
       "      <td>2</td>\n",
       "      <td>12</td>\n",
       "    </tr>\n",
       "    <tr>\n",
       "      <th>2</th>\n",
       "      <td>3</td>\n",
       "      <td>13</td>\n",
       "    </tr>\n",
       "    <tr>\n",
       "      <th>3</th>\n",
       "      <td>4</td>\n",
       "      <td>14</td>\n",
       "    </tr>\n",
       "  </tbody>\n",
       "</table>\n",
       "</div>"
      ],
      "text/plain": [
       "   col1  col2\n",
       "0     1    11\n",
       "1     2    12\n",
       "2     3    13\n",
       "3     4    14"
      ]
     },
     "execution_count": 167,
     "metadata": {},
     "output_type": "execute_result"
    }
   ],
   "source": [
    "import pandas as pd\n",
    "import numpy as np\n",
    "\n",
    "df = pd.DataFrame({\n",
    "    'col1': [1,  2,  3,  4],\n",
    "    'col2': [11, 12, 13, 14],\n",
    "})\n",
    "df"
   ]
  },
  {
   "cell_type": "code",
   "execution_count": 168,
   "id": "91667cd6",
   "metadata": {},
   "outputs": [
    {
     "data": {
      "text/html": [
       "<div>\n",
       "<style scoped>\n",
       "    .dataframe tbody tr th:only-of-type {\n",
       "        vertical-align: middle;\n",
       "    }\n",
       "\n",
       "    .dataframe tbody tr th {\n",
       "        vertical-align: top;\n",
       "    }\n",
       "\n",
       "    .dataframe thead th {\n",
       "        text-align: right;\n",
       "    }\n",
       "</style>\n",
       "<table border=\"1\" class=\"dataframe\">\n",
       "  <thead>\n",
       "    <tr style=\"text-align: right;\">\n",
       "      <th></th>\n",
       "      <th>col1</th>\n",
       "      <th>col2</th>\n",
       "    </tr>\n",
       "  </thead>\n",
       "  <tbody>\n",
       "    <tr>\n",
       "      <th>0</th>\n",
       "      <td>ODD</td>\n",
       "      <td>ODD</td>\n",
       "    </tr>\n",
       "    <tr>\n",
       "      <th>1</th>\n",
       "      <td>2</td>\n",
       "      <td>12</td>\n",
       "    </tr>\n",
       "    <tr>\n",
       "      <th>2</th>\n",
       "      <td>ODD</td>\n",
       "      <td>ODD</td>\n",
       "    </tr>\n",
       "    <tr>\n",
       "      <th>3</th>\n",
       "      <td>4</td>\n",
       "      <td>14</td>\n",
       "    </tr>\n",
       "  </tbody>\n",
       "</table>\n",
       "</div>"
      ],
      "text/plain": [
       "  col1 col2\n",
       "0  ODD  ODD\n",
       "1    2   12\n",
       "2  ODD  ODD\n",
       "3    4   14"
      ]
     },
     "execution_count": 168,
     "metadata": {},
     "output_type": "execute_result"
    }
   ],
   "source": [
    "df.where(lambda value: value %2 == 0, \"ODD\")"
   ]
  },
  {
   "cell_type": "markdown",
   "id": "365c9d20",
   "metadata": {},
   "source": [
    "## Null-like values"
   ]
  },
  {
   "cell_type": "code",
   "execution_count": 153,
   "id": "7e44e02f",
   "metadata": {},
   "outputs": [],
   "source": [
    "import pandas as pd\n",
    "import numpy as np\n",
    "\n",
    "\n",
    "df = pd.DataFrame({\n",
    "    'col1': [np.inf, 2.0,   3.0,  np.nan, None ],\n",
    "    'col2': [pd.NA,  None, 'baz', pd.NaT, 'bax'],\n",
    "})"
   ]
  },
  {
   "cell_type": "code",
   "execution_count": 151,
   "id": "3fc215f6",
   "metadata": {},
   "outputs": [
    {
     "data": {
      "text/html": [
       "<style type=\"text/css\">\n",
       "#T_865ed_row0_col1, #T_865ed_row1_col1, #T_865ed_row3_col0, #T_865ed_row3_col1, #T_865ed_row4_col0 {\n",
       "  color: red;\n",
       "}\n",
       "</style>\n",
       "<table id=\"T_865ed_\">\n",
       "  <thead>\n",
       "    <tr>\n",
       "      <th class=\"blank level0\" >&nbsp;</th>\n",
       "      <th class=\"col_heading level0 col0\" >col1</th>\n",
       "      <th class=\"col_heading level0 col1\" >col2</th>\n",
       "    </tr>\n",
       "  </thead>\n",
       "  <tbody>\n",
       "    <tr>\n",
       "      <th id=\"T_865ed_level0_row0\" class=\"row_heading level0 row0\" >0</th>\n",
       "      <td id=\"T_865ed_row0_col0\" class=\"data row0 col0\" >inf</td>\n",
       "      <td id=\"T_865ed_row0_col1\" class=\"data row0 col1\" ><NA></td>\n",
       "    </tr>\n",
       "    <tr>\n",
       "      <th id=\"T_865ed_level0_row1\" class=\"row_heading level0 row1\" >1</th>\n",
       "      <td id=\"T_865ed_row1_col0\" class=\"data row1 col0\" >2.00</td>\n",
       "      <td id=\"T_865ed_row1_col1\" class=\"data row1 col1\" >None</td>\n",
       "    </tr>\n",
       "    <tr>\n",
       "      <th id=\"T_865ed_level0_row2\" class=\"row_heading level0 row2\" >2</th>\n",
       "      <td id=\"T_865ed_row2_col0\" class=\"data row2 col0\" >3.00</td>\n",
       "      <td id=\"T_865ed_row2_col1\" class=\"data row2 col1\" >baz</td>\n",
       "    </tr>\n",
       "    <tr>\n",
       "      <th id=\"T_865ed_level0_row3\" class=\"row_heading level0 row3\" >3</th>\n",
       "      <td id=\"T_865ed_row3_col0\" class=\"data row3 col0\" >nan</td>\n",
       "      <td id=\"T_865ed_row3_col1\" class=\"data row3 col1\" >NaT</td>\n",
       "    </tr>\n",
       "    <tr>\n",
       "      <th id=\"T_865ed_level0_row4\" class=\"row_heading level0 row4\" >4</th>\n",
       "      <td id=\"T_865ed_row4_col0\" class=\"data row4 col0\" >nan</td>\n",
       "      <td id=\"T_865ed_row4_col1\" class=\"data row4 col1\" >bax</td>\n",
       "    </tr>\n",
       "  </tbody>\n",
       "</table>\n"
      ],
      "text/plain": [
       "<pandas.io.formats.style.Styler at 0x7f5dfda0c5e0>"
      ]
     },
     "execution_count": 151,
     "metadata": {},
     "output_type": "execute_result"
    }
   ],
   "source": [
    "df.style.applymap(red_if_na)"
   ]
  },
  {
   "cell_type": "code",
   "execution_count": 155,
   "id": "486d0e99",
   "metadata": {},
   "outputs": [
    {
     "data": {
      "text/html": [
       "<div>\n",
       "<style scoped>\n",
       "    .dataframe tbody tr th:only-of-type {\n",
       "        vertical-align: middle;\n",
       "    }\n",
       "\n",
       "    .dataframe tbody tr th {\n",
       "        vertical-align: top;\n",
       "    }\n",
       "\n",
       "    .dataframe thead th {\n",
       "        text-align: right;\n",
       "    }\n",
       "</style>\n",
       "<table border=\"1\" class=\"dataframe\">\n",
       "  <thead>\n",
       "    <tr style=\"text-align: right;\">\n",
       "      <th></th>\n",
       "      <th>col1</th>\n",
       "      <th>col2</th>\n",
       "    </tr>\n",
       "  </thead>\n",
       "  <tbody>\n",
       "    <tr>\n",
       "      <th>0</th>\n",
       "      <td>inf</td>\n",
       "      <td>xx</td>\n",
       "    </tr>\n",
       "    <tr>\n",
       "      <th>1</th>\n",
       "      <td>2.0</td>\n",
       "      <td>xx</td>\n",
       "    </tr>\n",
       "    <tr>\n",
       "      <th>2</th>\n",
       "      <td>3.0</td>\n",
       "      <td>baz</td>\n",
       "    </tr>\n",
       "    <tr>\n",
       "      <th>3</th>\n",
       "      <td>xx</td>\n",
       "      <td>xx</td>\n",
       "    </tr>\n",
       "    <tr>\n",
       "      <th>4</th>\n",
       "      <td>xx</td>\n",
       "      <td>bax</td>\n",
       "    </tr>\n",
       "  </tbody>\n",
       "</table>\n",
       "</div>"
      ],
      "text/plain": [
       "  col1 col2\n",
       "0  inf   xx\n",
       "1  2.0   xx\n",
       "2  3.0  baz\n",
       "3   xx   xx\n",
       "4   xx  bax"
      ]
     },
     "execution_count": 155,
     "metadata": {},
     "output_type": "execute_result"
    }
   ],
   "source": [
    "df.fillna(\"xx\")"
   ]
  },
  {
   "cell_type": "markdown",
   "id": "1778229f",
   "metadata": {},
   "source": [
    "## other null-like"
   ]
  },
  {
   "cell_type": "code",
   "execution_count": 156,
   "id": "f8ae7a43",
   "metadata": {},
   "outputs": [],
   "source": [
    "import pandas as pd\n",
    "import numpy as np\n",
    "\n",
    "\n",
    "df = pd.DataFrame({\n",
    "    'col1': [np.nan, \"-\",   3.0,  np.nan, None ],\n",
    "    'col2': [np.nan, \"foo\", 'baz', pd.NaT, \"-\"],\n",
    "})"
   ]
  },
  {
   "cell_type": "code",
   "execution_count": 159,
   "id": "bcdefaba",
   "metadata": {},
   "outputs": [
    {
     "data": {
      "text/html": [
       "<style type=\"text/css\">\n",
       "#T_a55b2_row0_col0, #T_a55b2_row0_col1, #T_a55b2_row3_col0, #T_a55b2_row3_col1, #T_a55b2_row4_col0 {\n",
       "  color: red;\n",
       "}\n",
       "</style>\n",
       "<table id=\"T_a55b2_\">\n",
       "  <thead>\n",
       "    <tr>\n",
       "      <th class=\"blank level0\" >&nbsp;</th>\n",
       "      <th class=\"col_heading level0 col0\" >col1</th>\n",
       "      <th class=\"col_heading level0 col1\" >col2</th>\n",
       "    </tr>\n",
       "  </thead>\n",
       "  <tbody>\n",
       "    <tr>\n",
       "      <th id=\"T_a55b2_level0_row0\" class=\"row_heading level0 row0\" >0</th>\n",
       "      <td id=\"T_a55b2_row0_col0\" class=\"data row0 col0\" >nan</td>\n",
       "      <td id=\"T_a55b2_row0_col1\" class=\"data row0 col1\" >nan</td>\n",
       "    </tr>\n",
       "    <tr>\n",
       "      <th id=\"T_a55b2_level0_row1\" class=\"row_heading level0 row1\" >1</th>\n",
       "      <td id=\"T_a55b2_row1_col0\" class=\"data row1 col0\" >-</td>\n",
       "      <td id=\"T_a55b2_row1_col1\" class=\"data row1 col1\" >foo</td>\n",
       "    </tr>\n",
       "    <tr>\n",
       "      <th id=\"T_a55b2_level0_row2\" class=\"row_heading level0 row2\" >2</th>\n",
       "      <td id=\"T_a55b2_row2_col0\" class=\"data row2 col0\" >3.00</td>\n",
       "      <td id=\"T_a55b2_row2_col1\" class=\"data row2 col1\" >baz</td>\n",
       "    </tr>\n",
       "    <tr>\n",
       "      <th id=\"T_a55b2_level0_row3\" class=\"row_heading level0 row3\" >3</th>\n",
       "      <td id=\"T_a55b2_row3_col0\" class=\"data row3 col0\" >nan</td>\n",
       "      <td id=\"T_a55b2_row3_col1\" class=\"data row3 col1\" >NaT</td>\n",
       "    </tr>\n",
       "    <tr>\n",
       "      <th id=\"T_a55b2_level0_row4\" class=\"row_heading level0 row4\" >4</th>\n",
       "      <td id=\"T_a55b2_row4_col0\" class=\"data row4 col0\" >None</td>\n",
       "      <td id=\"T_a55b2_row4_col1\" class=\"data row4 col1\" >-</td>\n",
       "    </tr>\n",
       "  </tbody>\n",
       "</table>\n"
      ],
      "text/plain": [
       "<pandas.io.formats.style.Styler at 0x7f5df919e6d0>"
      ]
     },
     "execution_count": 159,
     "metadata": {},
     "output_type": "execute_result"
    }
   ],
   "source": [
    "df.style.applymap(red_if_na)"
   ]
  },
  {
   "cell_type": "code",
   "execution_count": 160,
   "id": "fa2d4593",
   "metadata": {},
   "outputs": [
    {
     "data": {
      "text/html": [
       "<div>\n",
       "<style scoped>\n",
       "    .dataframe tbody tr th:only-of-type {\n",
       "        vertical-align: middle;\n",
       "    }\n",
       "\n",
       "    .dataframe tbody tr th {\n",
       "        vertical-align: top;\n",
       "    }\n",
       "\n",
       "    .dataframe thead th {\n",
       "        text-align: right;\n",
       "    }\n",
       "</style>\n",
       "<table border=\"1\" class=\"dataframe\">\n",
       "  <thead>\n",
       "    <tr style=\"text-align: right;\">\n",
       "      <th></th>\n",
       "      <th>col1</th>\n",
       "      <th>col2</th>\n",
       "    </tr>\n",
       "  </thead>\n",
       "  <tbody>\n",
       "    <tr>\n",
       "      <th>0</th>\n",
       "      <td>XXX</td>\n",
       "      <td>XXX</td>\n",
       "    </tr>\n",
       "    <tr>\n",
       "      <th>1</th>\n",
       "      <td>XXX</td>\n",
       "      <td>foo</td>\n",
       "    </tr>\n",
       "    <tr>\n",
       "      <th>2</th>\n",
       "      <td>3.0</td>\n",
       "      <td>baz</td>\n",
       "    </tr>\n",
       "    <tr>\n",
       "      <th>3</th>\n",
       "      <td>XXX</td>\n",
       "      <td>XXX</td>\n",
       "    </tr>\n",
       "    <tr>\n",
       "      <th>4</th>\n",
       "      <td>XXX</td>\n",
       "      <td>XXX</td>\n",
       "    </tr>\n",
       "  </tbody>\n",
       "</table>\n",
       "</div>"
      ],
      "text/plain": [
       "  col1 col2\n",
       "0  XXX  XXX\n",
       "1  XXX  foo\n",
       "2  3.0  baz\n",
       "3  XXX  XXX\n",
       "4  XXX  XXX"
      ]
     },
     "execution_count": 160,
     "metadata": {},
     "output_type": "execute_result"
    }
   ],
   "source": [
    "df.replace({\"-\":np.nan}).fillna(\"XXX\")"
   ]
  },
  {
   "cell_type": "code",
   "execution_count": null,
   "id": "aa546e47",
   "metadata": {},
   "outputs": [],
   "source": []
  }
 ],
 "metadata": {
  "kernelspec": {
   "display_name": "Python 3 (ipykernel)",
   "language": "python",
   "name": "python3"
  },
  "language_info": {
   "codemirror_mode": {
    "name": "ipython",
    "version": 3
   },
   "file_extension": ".py",
   "mimetype": "text/x-python",
   "name": "python",
   "nbconvert_exporter": "python",
   "pygments_lexer": "ipython3",
   "version": "3.8.10"
  }
 },
 "nbformat": 4,
 "nbformat_minor": 5
}
