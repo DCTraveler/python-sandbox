{
 "cells": [
  {
   "cell_type": "code",
   "execution_count": 57,
   "id": "fb5e6c97",
   "metadata": {},
   "outputs": [],
   "source": [
    "import pandas as pd\n",
    "from platform import python_version"
   ]
  },
  {
   "cell_type": "code",
   "execution_count": 58,
   "id": "806b393e",
   "metadata": {},
   "outputs": [
    {
     "data": {
      "text/plain": [
       "('1.3.2', '3.8.10')"
      ]
     },
     "execution_count": 58,
     "metadata": {},
     "output_type": "execute_result"
    }
   ],
   "source": [
    "pd.__version__, python_version()"
   ]
  },
  {
   "cell_type": "code",
   "execution_count": null,
   "id": "f6fb90ba",
   "metadata": {},
   "outputs": [],
   "source": [
    "get_p"
   ]
  },
  {
   "cell_type": "code",
   "execution_count": 3,
   "id": "f476b1cb",
   "metadata": {},
   "outputs": [
    {
     "name": "stdout",
     "output_type": "stream",
     "text": [
      "Collecting faker\n",
      "  Downloading Faker-13.15.1-py3-none-any.whl (1.6 MB)\n",
      "\u001b[K     |████████████████████████████████| 1.6 MB 1.4 MB/s eta 0:00:01\n",
      "\u001b[?25hRequirement already satisfied: python-dateutil>=2.4 in /home/felipe/jekyll-utils/jekyll-venv/lib/python3.8/site-packages (from faker) (2.8.2)\n",
      "Requirement already satisfied: six>=1.5 in /home/felipe/jekyll-utils/jekyll-venv/lib/python3.8/site-packages (from python-dateutil>=2.4->faker) (1.16.0)\n",
      "Installing collected packages: faker\n",
      "Successfully installed faker-13.15.1\n"
     ]
    }
   ],
   "source": [
    "!pip install faker"
   ]
  },
  {
   "cell_type": "code",
   "execution_count": 8,
   "id": "048e41e1",
   "metadata": {},
   "outputs": [],
   "source": [
    "from faker import Faker\n",
    "import random\n",
    "fake = Faker()\n",
    "def create_rows(num=1):\n",
    "    output = [{\"name\":fake.name(),\n",
    "               \"email\":fake.email(),\n",
    "               \"bs\":fake.bs(),\n",
    "               \"address\":fake.address(),\n",
    "               \"city\":fake.city(),\n",
    "               \"state\":fake.state(),\n",
    "               \"date_time\":fake.date_time(),\n",
    "               \"num1\": random.randint(1000,2000),\n",
    "               \"num2\": random.randint(1000,2000)} for x in range(num)]\n",
    "    return output"
   ]
  },
  {
   "cell_type": "code",
   "execution_count": 52,
   "id": "3596e73f",
   "metadata": {},
   "outputs": [],
   "source": [
    "df = pd.DataFrame(create_rows(100000))"
   ]
  },
  {
   "cell_type": "code",
   "execution_count": 53,
   "id": "505f0fc9",
   "metadata": {},
   "outputs": [
    {
     "data": {
      "text/html": [
       "<div>\n",
       "<style scoped>\n",
       "    .dataframe tbody tr th:only-of-type {\n",
       "        vertical-align: middle;\n",
       "    }\n",
       "\n",
       "    .dataframe tbody tr th {\n",
       "        vertical-align: top;\n",
       "    }\n",
       "\n",
       "    .dataframe thead th {\n",
       "        text-align: right;\n",
       "    }\n",
       "</style>\n",
       "<table border=\"1\" class=\"dataframe\">\n",
       "  <thead>\n",
       "    <tr style=\"text-align: right;\">\n",
       "      <th></th>\n",
       "      <th>name</th>\n",
       "      <th>email</th>\n",
       "      <th>bs</th>\n",
       "      <th>address</th>\n",
       "      <th>city</th>\n",
       "      <th>state</th>\n",
       "      <th>date_time</th>\n",
       "      <th>num1</th>\n",
       "      <th>num2</th>\n",
       "    </tr>\n",
       "  </thead>\n",
       "  <tbody>\n",
       "    <tr>\n",
       "      <th>68953</th>\n",
       "      <td>Lisa Matthews</td>\n",
       "      <td>pfisher@example.com</td>\n",
       "      <td>repurpose plug-and-play infrastructures</td>\n",
       "      <td>73952 Allison Forge Suite 791\\nBennettton, ID ...</td>\n",
       "      <td>Martinville</td>\n",
       "      <td>Oregon</td>\n",
       "      <td>2011-09-28 08:08:08</td>\n",
       "      <td>1941</td>\n",
       "      <td>1679</td>\n",
       "    </tr>\n",
       "    <tr>\n",
       "      <th>10529</th>\n",
       "      <td>William Campbell</td>\n",
       "      <td>fdavis@example.org</td>\n",
       "      <td>repurpose back-end communities</td>\n",
       "      <td>PSC 3467, Box 8961\\nAPO AP 16689</td>\n",
       "      <td>South Kendra</td>\n",
       "      <td>Montana</td>\n",
       "      <td>1975-08-26 07:49:26</td>\n",
       "      <td>1593</td>\n",
       "      <td>1368</td>\n",
       "    </tr>\n",
       "  </tbody>\n",
       "</table>\n",
       "</div>"
      ],
      "text/plain": [
       "                   name                email  \\\n",
       "68953     Lisa Matthews  pfisher@example.com   \n",
       "10529  William Campbell   fdavis@example.org   \n",
       "\n",
       "                                            bs  \\\n",
       "68953  repurpose plug-and-play infrastructures   \n",
       "10529           repurpose back-end communities   \n",
       "\n",
       "                                                 address          city  \\\n",
       "68953  73952 Allison Forge Suite 791\\nBennettton, ID ...   Martinville   \n",
       "10529                   PSC 3467, Box 8961\\nAPO AP 16689  South Kendra   \n",
       "\n",
       "         state           date_time  num1  num2  \n",
       "68953   Oregon 2011-09-28 08:08:08  1941  1679  \n",
       "10529  Montana 1975-08-26 07:49:26  1593  1368  "
      ]
     },
     "execution_count": 53,
     "metadata": {},
     "output_type": "execute_result"
    }
   ],
   "source": [
    "df.sample(2)"
   ]
  },
  {
   "cell_type": "code",
   "execution_count": 54,
   "id": "3ad1b7b3",
   "metadata": {},
   "outputs": [
    {
     "data": {
      "text/plain": [
       "'df has 100000 rows'"
      ]
     },
     "execution_count": 54,
     "metadata": {},
     "output_type": "execute_result"
    }
   ],
   "source": [
    "f\"df has {len(df)} rows\""
   ]
  },
  {
   "cell_type": "code",
   "execution_count": 55,
   "id": "c080f8ce",
   "metadata": {},
   "outputs": [
    {
     "name": "stdout",
     "output_type": "stream",
     "text": [
      "3.23 s ± 40 ms per loop (mean ± std. dev. of 10 runs, 1 loop each)\n"
     ]
    }
   ],
   "source": [
    "%%timeit -r10\n",
    "for i, row in enumerate(df.iterrows()):\n",
    "    i"
   ]
  },
  {
   "cell_type": "code",
   "execution_count": 56,
   "id": "826c2681",
   "metadata": {},
   "outputs": [
    {
     "name": "stdout",
     "output_type": "stream",
     "text": [
      "137 ms ± 704 µs per loop (mean ± std. dev. of 10 runs, 10 loops each)\n"
     ]
    }
   ],
   "source": [
    "%%timeit -r10\n",
    "for i, tpl in enumerate(df.itertuples()):\n",
    "    i"
   ]
  },
  {
   "cell_type": "code",
   "execution_count": null,
   "id": "11bd537d",
   "metadata": {},
   "outputs": [],
   "source": []
  }
 ],
 "metadata": {
  "kernelspec": {
   "display_name": "Python 3 (ipykernel)",
   "language": "python",
   "name": "python3"
  },
  "language_info": {
   "codemirror_mode": {
    "name": "ipython",
    "version": 3
   },
   "file_extension": ".py",
   "mimetype": "text/x-python",
   "name": "python",
   "nbconvert_exporter": "python",
   "pygments_lexer": "ipython3",
   "version": "3.8.10"
  }
 },
 "nbformat": 4,
 "nbformat_minor": 5
}
