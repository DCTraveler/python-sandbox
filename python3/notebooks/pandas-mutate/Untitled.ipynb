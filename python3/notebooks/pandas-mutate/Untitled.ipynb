{
 "cells": [
  {
   "cell_type": "code",
   "execution_count": 10,
   "id": "ccbace49",
   "metadata": {},
   "outputs": [
    {
     "data": {
      "text/plain": [
       "('1.21.2', '1.3.2', '3.8.10')"
      ]
     },
     "execution_count": 10,
     "metadata": {},
     "output_type": "execute_result"
    }
   ],
   "source": [
    "import pandas as pd\n",
    "import numpy as np\n",
    "\n",
    "from platform import python_version\n",
    "\n",
    "np.__version__, pd.__version__, python_version()"
   ]
  },
  {
   "cell_type": "markdown",
   "id": "32de873b",
   "metadata": {},
   "source": [
    "## mutate example"
   ]
  },
  {
   "cell_type": "code",
   "execution_count": 11,
   "id": "84523b2f",
   "metadata": {},
   "outputs": [
    {
     "data": {
      "text/html": [
       "<div>\n",
       "<style scoped>\n",
       "    .dataframe tbody tr th:only-of-type {\n",
       "        vertical-align: middle;\n",
       "    }\n",
       "\n",
       "    .dataframe tbody tr th {\n",
       "        vertical-align: top;\n",
       "    }\n",
       "\n",
       "    .dataframe thead th {\n",
       "        text-align: right;\n",
       "    }\n",
       "</style>\n",
       "<table border=\"1\" class=\"dataframe\">\n",
       "  <thead>\n",
       "    <tr style=\"text-align: right;\">\n",
       "      <th></th>\n",
       "      <th>name</th>\n",
       "      <th>age</th>\n",
       "      <th>is_senior</th>\n",
       "    </tr>\n",
       "  </thead>\n",
       "  <tbody>\n",
       "    <tr>\n",
       "      <th>0</th>\n",
       "      <td>alice</td>\n",
       "      <td>25</td>\n",
       "      <td>False</td>\n",
       "    </tr>\n",
       "    <tr>\n",
       "      <th>1</th>\n",
       "      <td>bob</td>\n",
       "      <td>66</td>\n",
       "      <td>True</td>\n",
       "    </tr>\n",
       "    <tr>\n",
       "      <th>2</th>\n",
       "      <td>charlie</td>\n",
       "      <td>56</td>\n",
       "      <td>False</td>\n",
       "    </tr>\n",
       "    <tr>\n",
       "      <th>3</th>\n",
       "      <td>daniel</td>\n",
       "      <td>78</td>\n",
       "      <td>True</td>\n",
       "    </tr>\n",
       "  </tbody>\n",
       "</table>\n",
       "</div>"
      ],
      "text/plain": [
       "      name  age  is_senior\n",
       "0    alice   25      False\n",
       "1      bob   66       True\n",
       "2  charlie   56      False\n",
       "3   daniel   78       True"
      ]
     },
     "execution_count": 11,
     "metadata": {},
     "output_type": "execute_result"
    }
   ],
   "source": [
    "import pandas as pd\n",
    "\n",
    "df = pd.DataFrame({\n",
    "    'name': ['alice','bob','charlie','daniel'],\n",
    "    'age': [25,66,56,78]\n",
    "})\n",
    "\n",
    "df.assign(\n",
    "    is_senior = lambda dataframe: dataframe['age'].map(lambda age: True if age >= 65 else False) \n",
    ")"
   ]
  },
  {
   "cell_type": "markdown",
   "id": "cfaf1da7",
   "metadata": {},
   "source": [
    "## chain application"
   ]
  },
  {
   "cell_type": "code",
   "execution_count": 14,
   "id": "a23eb945",
   "metadata": {},
   "outputs": [
    {
     "data": {
      "text/html": [
       "<div>\n",
       "<style scoped>\n",
       "    .dataframe tbody tr th:only-of-type {\n",
       "        vertical-align: middle;\n",
       "    }\n",
       "\n",
       "    .dataframe tbody tr th {\n",
       "        vertical-align: top;\n",
       "    }\n",
       "\n",
       "    .dataframe thead th {\n",
       "        text-align: right;\n",
       "    }\n",
       "</style>\n",
       "<table border=\"1\" class=\"dataframe\">\n",
       "  <thead>\n",
       "    <tr style=\"text-align: right;\">\n",
       "      <th></th>\n",
       "      <th>name</th>\n",
       "      <th>age</th>\n",
       "      <th>is_senior</th>\n",
       "      <th>name_uppercase</th>\n",
       "      <th>name_uppercase_double</th>\n",
       "    </tr>\n",
       "  </thead>\n",
       "  <tbody>\n",
       "    <tr>\n",
       "      <th>0</th>\n",
       "      <td>alice</td>\n",
       "      <td>25</td>\n",
       "      <td>False</td>\n",
       "      <td>ALICE</td>\n",
       "      <td>ALICE-ALICE</td>\n",
       "    </tr>\n",
       "    <tr>\n",
       "      <th>1</th>\n",
       "      <td>bob</td>\n",
       "      <td>66</td>\n",
       "      <td>True</td>\n",
       "      <td>BOB</td>\n",
       "      <td>BOB-BOB</td>\n",
       "    </tr>\n",
       "    <tr>\n",
       "      <th>2</th>\n",
       "      <td>charlie</td>\n",
       "      <td>56</td>\n",
       "      <td>False</td>\n",
       "      <td>CHARLIE</td>\n",
       "      <td>CHARLIE-CHARLIE</td>\n",
       "    </tr>\n",
       "    <tr>\n",
       "      <th>3</th>\n",
       "      <td>daniel</td>\n",
       "      <td>78</td>\n",
       "      <td>True</td>\n",
       "      <td>DANIEL</td>\n",
       "      <td>DANIEL-DANIEL</td>\n",
       "    </tr>\n",
       "  </tbody>\n",
       "</table>\n",
       "</div>"
      ],
      "text/plain": [
       "      name  age  is_senior name_uppercase name_uppercase_double\n",
       "0    alice   25      False          ALICE           ALICE-ALICE\n",
       "1      bob   66       True            BOB               BOB-BOB\n",
       "2  charlie   56      False        CHARLIE       CHARLIE-CHARLIE\n",
       "3   daniel   78       True         DANIEL         DANIEL-DANIEL"
      ]
     },
     "execution_count": 14,
     "metadata": {},
     "output_type": "execute_result"
    }
   ],
   "source": [
    "import pandas as pd\n",
    "\n",
    "df = pd.DataFrame({\n",
    "    'name': ['alice','bob','charlie','daniel'],\n",
    "    'age': [25,66,56,78]\n",
    "})\n",
    "\n",
    "df.assign(\n",
    "    is_senior = lambda dataframe: dataframe['age'].map(lambda age: True if age >= 65 else False) \n",
    ").assign(\n",
    "    name_uppercase = lambda dataframe: dataframe['name'].map(lambda name: name.upper()),\n",
    ").assign(\n",
    "    name_uppercase_double = lambda dataframe: dataframe['name_uppercase'].map(lambda name: name.upper()+\"-\"+name.upper())\n",
    ")"
   ]
  },
  {
   "cell_type": "code",
   "execution_count": null,
   "id": "1ed14633",
   "metadata": {},
   "outputs": [],
   "source": []
  }
 ],
 "metadata": {
  "kernelspec": {
   "display_name": "Python 3 (ipykernel)",
   "language": "python",
   "name": "python3"
  },
  "language_info": {
   "codemirror_mode": {
    "name": "ipython",
    "version": 3
   },
   "file_extension": ".py",
   "mimetype": "text/x-python",
   "name": "python",
   "nbconvert_exporter": "python",
   "pygments_lexer": "ipython3",
   "version": "3.8.10"
  }
 },
 "nbformat": 4,
 "nbformat_minor": 5
}
