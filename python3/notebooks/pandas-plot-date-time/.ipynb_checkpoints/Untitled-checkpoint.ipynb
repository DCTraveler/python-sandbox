{
 "cells": [
  {
   "cell_type": "code",
   "execution_count": 1,
   "id": "dc885cd3",
   "metadata": {},
   "outputs": [],
   "source": [
    "import matplotlib\n",
    "import pandas as pd\n",
    "\n",
    "import matplotlib.pyplot as plt"
   ]
  },
  {
   "cell_type": "code",
   "execution_count": 2,
   "id": "29dfff3c",
   "metadata": {},
   "outputs": [
    {
     "data": {
      "text/plain": [
       "('1.3.2', '3.4.3')"
      ]
     },
     "execution_count": 2,
     "metadata": {},
     "output_type": "execute_result"
    }
   ],
   "source": [
    "pd.__version__, matplotlib.__version__"
   ]
  },
  {
   "cell_type": "markdown",
   "id": "1e349b1c",
   "metadata": {},
   "source": [
    "## Plot date histogram"
   ]
  },
  {
   "cell_type": "code",
   "execution_count": null,
   "id": "7f8f6a39",
   "metadata": {},
   "outputs": [],
   "source": []
  },
  {
   "cell_type": "markdown",
   "id": "b267fe2e",
   "metadata": {},
   "source": [
    "## Fill missing days in between"
   ]
  },
  {
   "cell_type": "code",
   "execution_count": 108,
   "id": "87e22dd9",
   "metadata": {},
   "outputs": [
    {
     "data": {
      "text/plain": [
       "<AxesSubplot:>"
      ]
     },
     "execution_count": 108,
     "metadata": {},
     "output_type": "execute_result"
    },
    {
     "data": {
      "image/png": "[encoded data removed]",
      "text/plain": [
       "<Figure size 432x288 with 1 Axes>"
      ]
     },
     "metadata": {
      "needs_background": "light"
     },
     "output_type": "display_data"
    },
    {
     "data": {
      "image/png": "[encoded data removed]",
      "text/plain": [
       "<Figure size 432x288 with 1 Axes>"
      ]
     },
     "metadata": {
      "needs_background": "light"
     },
     "output_type": "display_data"
    }
   ],
   "source": [
    "df = pd.DataFrame({\n",
    "    'name':[\n",
    "        'john','mary','peter','jeff','bill'\n",
    "    ],\n",
    "    'day_born':[\n",
    "        '1988-12-28', '1988-12-25', '1988-12-25', '1988-12-26',  '1988-12-30',\n",
    "    ],\n",
    "})\n",
    "\n",
    "\n",
    "grouped_df = df.groupby('day_born').size().to_frame(\"count\").reset_index()\n",
    "\n",
    "display(grouped_df)\n",
    "\n",
    "datetime_series = pd.to_datetime(grouped_df['day_born'])\n",
    "\n",
    "datetime_index = pd.DatetimeIndex(datetime_series.values)\n",
    "\n",
    "grouped_df.set_index(datetime_index, inplace=True)\n",
    "\n",
    "grouped_df.sort_index(inplace=True)\n",
    "\n",
    "grouped_df.set_index(\n",
    "    grouped_df.index.map(lambda dt: dt.date)\n",
    ").plot(kind='bar', y='count', rot=60)\n",
    "\n",
    "grouped_df_filled_missing = grouped_df.asfreq('D')\n",
    "\n",
    "grouped_df_filled_missing.set_index(\n",
    "    grouped_df_filled_missing.index.map(lambda dt: dt.date)\n",
    ").plot(kind='bar', y='count', rot=60)"
   ]
  },
  {
   "cell_type": "code",
   "execution_count": null,
   "id": "3c642d91",
   "metadata": {},
   "outputs": [],
   "source": []
  }
 ],
 "metadata": {
  "kernelspec": {
   "display_name": "Python 3 (ipykernel)",
   "language": "python",
   "name": "python3"
  },
  "language_info": {
   "codemirror_mode": {
    "name": "ipython",
    "version": 3
   },
   "file_extension": ".py",
   "mimetype": "text/x-python",
   "name": "python",
   "nbconvert_exporter": "python",
   "pygments_lexer": "ipython3",
   "version": "3.8.10"
  }
 },
 "nbformat": 4,
 "nbformat_minor": 5
}
