{
 "cells": [
  {
   "cell_type": "code",
   "execution_count": 1,
   "id": "001848d5",
   "metadata": {},
   "outputs": [],
   "source": [
    "import pytest"
   ]
  },
  {
   "cell_type": "code",
   "execution_count": 2,
   "id": "79f5d9ff",
   "metadata": {},
   "outputs": [
    {
     "data": {
      "text/plain": [
       "'7.1.2'"
      ]
     },
     "execution_count": 2,
     "metadata": {},
     "output_type": "execute_result"
    }
   ],
   "source": [
    "pytest.__version__"
   ]
  },
  {
   "cell_type": "markdown",
   "id": "a909c42d",
   "metadata": {},
   "source": [
    "## Assert exception is raised"
   ]
  },
  {
   "cell_type": "markdown",
   "id": "61b25ff8",
   "metadata": {},
   "source": [
    "Use `with pytest.raises(ValueError):` as a context manager:"
   ]
  },
  {
   "cell_type": "code",
   "execution_count": 9,
   "id": "f9d58f62",
   "metadata": {},
   "outputs": [],
   "source": [
    "# inside my_test.py\n",
    "def test_raises_index_error():\n",
    "\n",
    "    with pytest.raises(IndexError):\n",
    "        arr = [1,2,3]\n",
    "        arr[1]"
   ]
  },
  {
   "cell_type": "markdown",
   "id": "f263cf36",
   "metadata": {},
   "source": [
    "```\n",
    "$ pytest\n",
    "============================= test session starts ==============================\n",
    "platform linux -- Python 3.8.10, pytest-7.1.2, pluggy-1.0.0\n",
    "plugins: anyio-3.3.4\n",
    "collected 1 item                                                               \n",
    "\n",
    "tests/my_test.py .                                                        [100%]\n",
    "\n",
    "============================== 1 passed in 0.02s ===============================\n",
    "```"
   ]
  }
 ],
 "metadata": {
  "kernelspec": {
   "display_name": "Python 3 (ipykernel)",
   "language": "python",
   "name": "python3"
  },
  "language_info": {
   "codemirror_mode": {
    "name": "ipython",
    "version": 3
   },
   "file_extension": ".py",
   "mimetype": "text/x-python",
   "name": "python",
   "nbconvert_exporter": "python",
   "pygments_lexer": "ipython3",
   "version": "3.8.10"
  }
 },
 "nbformat": 4,
 "nbformat_minor": 5
}
