{
 "cells": [
  {
   "cell_type": "markdown",
   "id": "ca6185f0",
   "metadata": {},
   "source": [
    "## Extract groups with re.match"
   ]
  },
  {
   "cell_type": "markdown",
   "id": "5b7d3574",
   "metadata": {},
   "source": [
    "> `re.match` only matches at the start of the string!"
   ]
  },
  {
   "cell_type": "code",
   "execution_count": 8,
   "id": "941eaecb",
   "metadata": {},
   "outputs": [
    {
     "data": {
      "text/plain": [
       "{'param1': 'foo', 'param2': 'bar'}"
      ]
     },
     "execution_count": 8,
     "metadata": {},
     "output_type": "execute_result"
    }
   ],
   "source": [
    "import re\n",
    "\n",
    "# a word followed by a comma and then a word followed by a period\n",
    "pattern = r'(?P<param1>[\\w]+),(?P<param2>[\\w]+)\\.'\n",
    "\n",
    "re.match(pattern,'foo,bar.').groupdict()"
   ]
  },
  {
   "cell_type": "markdown",
   "id": "5a5223aa",
   "metadata": {},
   "source": [
    "## Re.search"
   ]
  },
  {
   "cell_type": "markdown",
   "id": "5d193353",
   "metadata": {},
   "source": [
    "> `re.search` matches anywhere in the string!"
   ]
  },
  {
   "cell_type": "code",
   "execution_count": 9,
   "id": "ce248045",
   "metadata": {},
   "outputs": [
    {
     "data": {
      "text/plain": [
       "<re.Match object; span=(5, 13), match='foo,bar.'>"
      ]
     },
     "execution_count": 9,
     "metadata": {},
     "output_type": "execute_result"
    }
   ],
   "source": [
    "import re\n",
    "\n",
    "# a word followed by a comma and then a word followed by a period\n",
    "pattern = r'(?P<param1>[\\w]+),(?P<param2>[\\w]+)\\.'\n",
    "\n",
    "re.search(pattern,'xxx  foo,bar.')"
   ]
  },
  {
   "cell_type": "markdown",
   "id": "e98edf21",
   "metadata": {},
   "source": [
    "## Search, multiple matches"
   ]
  },
  {
   "cell_type": "code",
   "execution_count": 10,
   "id": "38839b24",
   "metadata": {},
   "outputs": [
    {
     "name": "stdout",
     "output_type": "stream",
     "text": [
      "foo\n",
      "bar\n"
     ]
    }
   ],
   "source": [
    "import re\n",
    "\n",
    "# a word followed by a comma and then a word followed by a period\n",
    "pattern = r'(?P<param1>[\\w]+),(?P<param2>[\\w]+)\\.'\n",
    "\n",
    "matches = re.search(pattern,'  foo,bar. aaaand another xxx,yyy.')\n",
    "\n",
    "for match in matches.groups():\n",
    "    print(match)"
   ]
  },
  {
   "cell_type": "markdown",
   "id": "96a8d4dd",
   "metadata": {},
   "source": [
    "## Re.findall"
   ]
  },
  {
   "cell_type": "markdown",
   "id": "de00e9ea",
   "metadata": {},
   "source": [
    "> `re.findall` returns a list of matches"
   ]
  },
  {
   "cell_type": "code",
   "execution_count": 4,
   "id": "530d585f",
   "metadata": {},
   "outputs": [
    {
     "data": {
      "text/plain": [
       "[('foo', 'bar')]"
      ]
     },
     "execution_count": 4,
     "metadata": {},
     "output_type": "execute_result"
    }
   ],
   "source": [
    "import re\n",
    "\n",
    "# a word followed by a comma and then another word followed by a period\n",
    "pattern = r'(?P<param1>[\\w]+),(?P<param2>[\\w]+)\\.'\n",
    "\n",
    "re.findall(pattern,'foo,bar.')"
   ]
  },
  {
   "cell_type": "markdown",
   "id": "96c0ff98",
   "metadata": {},
   "source": [
    "## Findall, multiple matches"
   ]
  },
  {
   "cell_type": "code",
   "execution_count": 5,
   "id": "c7d2d82f",
   "metadata": {},
   "outputs": [
    {
     "data": {
      "text/plain": [
       "[('foo', 'bar'), ('xxx', 'yyy')]"
      ]
     },
     "execution_count": 5,
     "metadata": {},
     "output_type": "execute_result"
    }
   ],
   "source": [
    "import re\n",
    "\n",
    "# a word followed by a comma and then another word followed by a period\n",
    "pattern = r'(?P<param1>[\\w]+),(?P<param2>[\\w]+)\\.'\n",
    "\n",
    "re.findall(pattern,'foo,bar. and another xxx,yyy.')"
   ]
  },
  {
   "cell_type": "markdown",
   "id": "04c8437f",
   "metadata": {},
   "source": [
    "## Re.sub with named captures"
   ]
  },
  {
   "cell_type": "code",
   "execution_count": 6,
   "id": "e37d8893",
   "metadata": {},
   "outputs": [
    {
     "data": {
      "text/plain": [
       "'ff'"
      ]
     },
     "execution_count": 6,
     "metadata": {},
     "output_type": "execute_result"
    }
   ],
   "source": [
    "import re\n",
    "\n",
    "pattern = r'(?P<param1>[\\w]+),(?P<param2>[\\w]+)\\.'\n",
    "\n",
    "re.sub(pattern,\"foo\\g<param1>\",\"ff\")"
   ]
  }
 ],
 "metadata": {
  "kernelspec": {
   "display_name": "Python 3 (ipykernel)",
   "language": "python",
   "name": "python3"
  },
  "language_info": {
   "codemirror_mode": {
    "name": "ipython",
    "version": 3
   },
   "file_extension": ".py",
   "mimetype": "text/x-python",
   "name": "python",
   "nbconvert_exporter": "python",
   "pygments_lexer": "ipython3",
   "version": "3.8.10"
  }
 },
 "nbformat": 4,
 "nbformat_minor": 5
}
